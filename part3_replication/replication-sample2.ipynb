{
 "cells": [
  {
   "cell_type": "code",
   "execution_count": 1,
   "metadata": {
    "editable": true,
    "slideshow": {
     "slide_type": ""
    },
    "tags": []
   },
   "outputs": [],
   "source": [
    "import torch\n",
    "import torch.nn as nn\n",
    "\n",
    "\n",
    "from torch.utils.data import TensorDataset, DataLoader\n",
    "\n",
    "import numpy as np\n",
    "\n",
    "from common import *"
   ]
  },
  {
   "cell_type": "code",
   "execution_count": 2,
   "metadata": {},
   "outputs": [],
   "source": [
    "import logging, sys\n",
    "logging.basicConfig(stream=sys.stderr, level=logging.INFO)\n",
    "logging.debug('A debug message!')\n"
   ]
  },
  {
   "cell_type": "code",
   "execution_count": 3,
   "metadata": {},
   "outputs": [],
   "source": [
    "torch.autograd.set_detect_anomaly(True)\n",
    "device = \"cpu\""
   ]
  },
  {
   "cell_type": "code",
   "execution_count": 4,
   "metadata": {},
   "outputs": [],
   "source": [
    "# read the data from the \"GeneratorInput.txt\" file\n",
    "def read_data(file_name):\n",
    "    with open(file_name, 'r') as file:\n",
    "        data = file.readlines()\n",
    "    return data\n",
    "\n",
    "raw_data = read_data(\"GeneratorInput.txt\")\n",
    "\n",
    "datasets = []\n",
    "y_idx = 0\n",
    "dataset = None\n",
    "for line in raw_data:\n",
    "    if len(line) <= 1:\n",
    "        datasets.append(dataset.copy())\n",
    "        y_idx = 0\n",
    "        dataset = []\n",
    "        continue\n",
    "    y_idx += 1\n",
    "    if dataset is None:\n",
    "        dataset = []\n",
    "    for x_idx,char in enumerate(line):\n",
    "        if char == '0' or char == '1':\n",
    "            dataset.append((y_idx,x_idx+1, int(char)))\n",
    "    "
   ]
  },
  {
   "cell_type": "code",
   "execution_count": 5,
   "metadata": {},
   "outputs": [
    {
     "data": {
      "text/plain": [
       "tensor([[0.1000, 0.2000],\n",
       "        [0.2000, 0.1000],\n",
       "        [0.2000, 0.2000],\n",
       "        [0.2000, 0.5000],\n",
       "        [0.2000, 0.9000],\n",
       "        [0.2000, 1.0000],\n",
       "        [0.3000, 0.1000],\n",
       "        [0.3000, 0.5000],\n",
       "        [0.3000, 0.8000],\n",
       "        [0.4000, 0.4000],\n",
       "        [0.4000, 0.5000],\n",
       "        [0.4000, 0.6000],\n",
       "        [0.4000, 0.7000],\n",
       "        [0.4000, 0.8000],\n",
       "        [0.5000, 0.2000],\n",
       "        [0.5000, 0.3000],\n",
       "        [0.5000, 0.7000],\n",
       "        [0.6000, 0.4000],\n",
       "        [0.6000, 0.6000],\n",
       "        [0.7000, 0.4000],\n",
       "        [0.7000, 0.8000],\n",
       "        [0.7000, 0.9000],\n",
       "        [0.8000, 0.3000],\n",
       "        [0.8000, 0.5000],\n",
       "        [0.8000, 0.6000],\n",
       "        [0.8000, 0.7000],\n",
       "        [0.8000, 0.8000],\n",
       "        [0.8000, 1.0000],\n",
       "        [0.9000, 0.1000],\n",
       "        [0.9000, 0.2000],\n",
       "        [0.9000, 0.5000],\n",
       "        [0.9000, 0.7000],\n",
       "        [1.0000, 0.1000],\n",
       "        [1.0000, 0.2000],\n",
       "        [1.0000, 0.8000],\n",
       "        [1.0000, 0.9000],\n",
       "        [1.0000, 1.0000]])"
      ]
     },
     "execution_count": 5,
     "metadata": {},
     "output_type": "execute_result"
    }
   ],
   "source": [
    "data = datasets[0]\n",
    "X = torch.tensor([list(sublist[:2]) for sublist in data], dtype=torch.float32)\n",
    "y = torch.tensor([item for sublist in data for item in sublist[2:]], dtype=torch.float32).unsqueeze(1)\n",
    "\n",
    "\n",
    "#scale the data to be between 0 and 1\n",
    "X = X / X.max()\n",
    "X\n"
   ]
  },
  {
   "cell_type": "markdown",
   "metadata": {},
   "source": [
    "# Network 2"
   ]
  },
  {
   "cell_type": "code",
   "execution_count": 6,
   "metadata": {},
   "outputs": [],
   "source": [
    "# Create a PyTorch dataset and data loader\n",
    "dataset = TensorDataset(X, y)\n",
    "dataloader = DataLoader(dataset, batch_size=2, shuffle=True)\n",
    "\n",
    "\n",
    "model = Network3()\n",
    "criterion = nn.BCELoss()\n",
    "optimizer = torch.optim.SGD(model.parameters(),lr=0.005)\n",
    "total_epochs = 0\n",
    "# optimizer = torch.optim.Adam(model.parameters(), lr=0.001)\n"
   ]
  },
  {
   "cell_type": "code",
   "execution_count": 7,
   "metadata": {
    "editable": true,
    "slideshow": {
     "slide_type": ""
    },
    "tags": []
   },
   "outputs": [
    {
     "name": "stdout",
     "output_type": "stream",
     "text": [
      "Epoch [10/500] total 10, Loss: 0.5647, Accuracy: 67.57\n",
      "Epoch [20/500] total 20, Loss: 0.4533, Accuracy: 70.27\n",
      "Epoch [30/500] total 30, Loss: 0.6149, Accuracy: 72.97\n",
      "Epoch [40/500] total 40, Loss: 1.0020, Accuracy: 70.27\n",
      "Epoch [50/500] total 50, Loss: 0.8524, Accuracy: 67.57\n",
      "Epoch [60/500] total 60, Loss: 0.4726, Accuracy: 67.57\n",
      "Epoch [70/500] total 70, Loss: 0.4619, Accuracy: 67.57\n",
      "Epoch [80/500] total 80, Loss: 0.7206, Accuracy: 64.86\n",
      "Epoch [90/500] total 90, Loss: 0.4584, Accuracy: 64.86\n",
      "Epoch [100/500] total 100, Loss: 0.4800, Accuracy: 64.86\n",
      "Epoch [110/500] total 110, Loss: 0.4213, Accuracy: 64.86\n",
      "Epoch [120/500] total 120, Loss: 0.6987, Accuracy: 64.86\n",
      "Epoch [130/500] total 130, Loss: 0.4469, Accuracy: 64.86\n",
      "Epoch [140/500] total 140, Loss: 0.4439, Accuracy: 64.86\n",
      "Epoch [150/500] total 150, Loss: 0.4705, Accuracy: 64.86\n",
      "Epoch [160/500] total 160, Loss: 0.4019, Accuracy: 67.57\n",
      "Epoch [170/500] total 170, Loss: 1.0324, Accuracy: 67.57\n",
      "Epoch [180/500] total 180, Loss: 0.4480, Accuracy: 67.57\n",
      "Epoch [190/500] total 190, Loss: 0.8622, Accuracy: 67.57\n",
      "Epoch [200/500] total 200, Loss: 0.5615, Accuracy: 67.57\n",
      "Epoch [210/500] total 210, Loss: 0.3818, Accuracy: 67.57\n",
      "Epoch [220/500] total 220, Loss: 0.3780, Accuracy: 67.57\n",
      "Epoch [230/500] total 230, Loss: 0.3774, Accuracy: 67.57\n",
      "Epoch [240/500] total 240, Loss: 0.5144, Accuracy: 67.57\n",
      "Epoch [250/500] total 250, Loss: 0.4546, Accuracy: 70.27\n",
      "Epoch [260/500] total 260, Loss: 0.8640, Accuracy: 70.27\n",
      "Epoch [270/500] total 270, Loss: 0.5294, Accuracy: 70.27\n",
      "Epoch [280/500] total 280, Loss: 0.8338, Accuracy: 70.27\n",
      "Epoch [290/500] total 290, Loss: 0.3586, Accuracy: 70.27\n",
      "Epoch [300/500] total 300, Loss: 0.4462, Accuracy: 70.27\n",
      "Epoch [310/500] total 310, Loss: 0.3366, Accuracy: 70.27\n",
      "Epoch [320/500] total 320, Loss: 0.4199, Accuracy: 70.27\n",
      "Epoch [330/500] total 330, Loss: 0.3426, Accuracy: 70.27\n",
      "Epoch [340/500] total 340, Loss: 0.4220, Accuracy: 70.27\n",
      "Epoch [350/500] total 350, Loss: 0.6508, Accuracy: 70.27\n",
      "Epoch [360/500] total 360, Loss: 1.1000, Accuracy: 70.27\n",
      "Epoch [370/500] total 370, Loss: 1.0707, Accuracy: 72.97\n",
      "Epoch [380/500] total 380, Loss: 1.0708, Accuracy: 72.97\n",
      "Epoch [390/500] total 390, Loss: 1.0786, Accuracy: 72.97\n",
      "Epoch [400/500] total 400, Loss: 1.1247, Accuracy: 72.97\n",
      "Epoch [410/500] total 410, Loss: 0.4183, Accuracy: 72.97\n",
      "Epoch [420/500] total 420, Loss: 0.3611, Accuracy: 72.97\n",
      "Epoch [430/500] total 430, Loss: 0.3494, Accuracy: 72.97\n",
      "Epoch [440/500] total 440, Loss: 0.3212, Accuracy: 72.97\n",
      "Epoch [450/500] total 450, Loss: 0.5801, Accuracy: 72.97\n",
      "Epoch [460/500] total 460, Loss: 0.3540, Accuracy: 72.97\n",
      "Epoch [470/500] total 470, Loss: 1.0766, Accuracy: 72.97\n",
      "Epoch [480/500] total 480, Loss: 0.3378, Accuracy: 72.97\n",
      "Epoch [490/500] total 490, Loss: 0.6090, Accuracy: 72.97\n",
      "Epoch [500/500] total 500, Loss: 0.3460, Accuracy: 72.97\n"
     ]
    },
    {
     "data": {
      "image/png": "[encoded data removed]",
      "text/plain": [
       "<Figure size 640x480 with 1 Axes>"
      ]
     },
     "metadata": {},
     "output_type": "display_data"
    }
   ],
   "source": [
    "# Train the model\n",
    "num_epochs = 500\n",
    "for epoch in range(num_epochs):\n",
    "    for X_batch, y_batch in dataloader:\n",
    "        # print(f\"y_pred is {y_pred} and y_batch is {y_batch}\")\n",
    "        y_pred = model(X_batch)\n",
    "        \n",
    "        # replace y_pred nan with 0\n",
    "        # y_pred = torch.nan_to_num(y_pred)\n",
    "\n",
    "        logging.debug(f\"y_pred is {y_pred} and y_batch is {y_batch}\")\n",
    "        \n",
    "        loss = criterion(y_pred, y_batch)\n",
    "        optimizer.zero_grad()\n",
    "\n",
    "        loss.backward()\n",
    "        # clip the gradients\n",
    "        # for param in model.parameters():\n",
    "        #     param.grad.data.clamp_(-100, 100)\n",
    "\n",
    "        optimizer.step()\n",
    "\n",
    "        for name, param in model.named_parameters(): \n",
    "            logging.debug(f\"{name} has gradient {param.grad}\")\n",
    "\n",
    "    # calculate accuracy for all training data\n",
    "    y_pred = model(X)\n",
    "    y_pred = torch.round(y_pred)\n",
    "    correct = (y_pred == y).sum().item()\n",
    "    accuracy = correct / len(y)\n",
    "    total_epochs += 1\n",
    "    \n",
    "\n",
    "    if accuracy > 0.99:\n",
    "        print(\"HOORAY\")\n",
    "        break\n",
    "    if (epoch + 1) % 10 == 0:\n",
    "        print(f\"Epoch [{epoch + 1}/{num_epochs}] total {total_epochs}, Loss: {loss:.4f}, Accuracy: {accuracy * 100:.2f}\")\n",
    "    \n",
    "\n",
    "plot_decision_boundary(model, X, y)"
   ]
  },
  {
   "cell_type": "code",
   "execution_count": 8,
   "metadata": {
    "editable": true,
    "slideshow": {
     "slide_type": ""
    },
    "tags": []
   },
   "outputs": [
    {
     "name": "stdout",
     "output_type": "stream",
     "text": [
      "bias has shape torch.Size([1]) and value Parameter containing:\n",
      "tensor([0.6237], requires_grad=True)\n",
      "synapse1.power has shape torch.Size([1]) and value Parameter containing:\n",
      "tensor([1.], requires_grad=True)\n",
      "synapse1.term_weights has shape torch.Size([3]) and value Parameter containing:\n",
      "tensor([-0.5553,  0.2210,  0.3244], requires_grad=True)\n",
      "product_synapse.power has shape torch.Size([1]) and value Parameter containing:\n",
      "tensor([2.], requires_grad=True)\n",
      "product_synapse.term_weights has shape torch.Size([3]) and value Parameter containing:\n",
      "tensor([0.9549, 0.6884, 0.8028], requires_grad=True)\n",
      "bias has gradient None\n",
      "synapse1.power has gradient None\n",
      "synapse1.term_weights has gradient None\n",
      "product_synapse.power has gradient None\n",
      "product_synapse.term_weights has gradient None\n"
     ]
    }
   ],
   "source": [
    "# print all parameters of the model\n",
    "for name, param in model.named_parameters():\n",
    "    print(f\"{name} has shape {param.shape} and value {param}\")\n",
    "\n",
    "# print model gradients\n",
    "for name, param in model.named_parameters(): \n",
    "    print(f\"{name} has gradient {param.grad}\")\n",
    "    "
   ]
  },
  {
   "cell_type": "code",
   "execution_count": null,
   "metadata": {
    "editable": true,
    "slideshow": {
     "slide_type": ""
    },
    "tags": []
   },
   "outputs": [],
   "source": []
  }
 ],
 "metadata": {
  "kernelspec": {
   "display_name": "Python 3 (ipykernel)",
   "language": "python",
   "name": "python3"
  },
  "language_info": {
   "codemirror_mode": {
    "name": "ipython",
    "version": 3
   },
   "file_extension": ".py",
   "mimetype": "text/x-python",
   "name": "python",
   "nbconvert_exporter": "python",
   "pygments_lexer": "ipython3",
   "version": "3.11.7"
  }
 },
 "nbformat": 4,
 "nbformat_minor": 4
}
