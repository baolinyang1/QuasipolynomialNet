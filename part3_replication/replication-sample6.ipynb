{
 "cells": [
  {
   "cell_type": "code",
   "execution_count": 1,
   "metadata": {
    "editable": true,
    "slideshow": {
     "slide_type": ""
    },
    "tags": []
   },
   "outputs": [],
   "source": [
    "import torch\n",
    "import torch.nn as nn\n",
    "\n",
    "from torch.utils.data import TensorDataset, DataLoader\n",
    "\n",
    "from common import *"
   ]
  },
  {
   "cell_type": "code",
   "execution_count": 2,
   "metadata": {},
   "outputs": [],
   "source": [
    "import logging, sys\n",
    "logging.basicConfig(stream=sys.stderr, level=logging.INFO)\n",
    "logging.debug('A debug message!')\n"
   ]
  },
  {
   "cell_type": "code",
   "execution_count": 3,
   "metadata": {},
   "outputs": [],
   "source": [
    "torch.autograd.set_detect_anomaly(True)\n",
    "device = \"cpu\""
   ]
  },
  {
   "cell_type": "code",
   "execution_count": 4,
   "metadata": {},
   "outputs": [],
   "source": [
    "# read the data from the \"GeneratorInput.txt\" file\n",
    "def read_data(file_name):\n",
    "    with open(file_name, 'r') as file:\n",
    "        data = file.readlines()\n",
    "    return data\n",
    "\n",
    "raw_data = read_data(\"GeneratorInput.txt\")\n",
    "\n",
    "datasets = []\n",
    "y_idx = 0\n",
    "dataset = None\n",
    "for line in raw_data:\n",
    "    if len(line) <= 1:\n",
    "        datasets.append(dataset.copy())\n",
    "        y_idx = 0\n",
    "        dataset = []\n",
    "        continue\n",
    "    y_idx += 1\n",
    "    if dataset is None:\n",
    "        dataset = []\n",
    "    for x_idx,char in enumerate(line):\n",
    "        if char == '0' or char == '1':\n",
    "            dataset.append((y_idx,x_idx+1, int(char)))\n",
    "    "
   ]
  },
  {
   "cell_type": "code",
   "execution_count": 5,
   "metadata": {
    "editable": true,
    "slideshow": {
     "slide_type": ""
    },
    "tags": []
   },
   "outputs": [
    {
     "data": {
      "text/plain": [
       "tensor([[ 1.,  2.],\n",
       "        [ 1.,  8.],\n",
       "        [ 1.,  9.],\n",
       "        [ 2.,  2.],\n",
       "        [ 2.,  6.],\n",
       "        [ 2.,  7.],\n",
       "        [ 2.,  8.],\n",
       "        [ 3.,  2.],\n",
       "        [ 3.,  6.],\n",
       "        [ 4.,  1.],\n",
       "        [ 4.,  2.],\n",
       "        [ 4.,  3.],\n",
       "        [ 4.,  4.],\n",
       "        [ 4.,  6.],\n",
       "        [ 4.,  8.],\n",
       "        [ 4.,  9.],\n",
       "        [ 5.,  4.],\n",
       "        [ 6.,  1.],\n",
       "        [ 6.,  3.],\n",
       "        [ 7.,  1.],\n",
       "        [ 7.,  6.],\n",
       "        [ 7.,  7.],\n",
       "        [ 7.,  9.],\n",
       "        [ 8.,  2.],\n",
       "        [ 8.,  3.],\n",
       "        [ 8.,  4.],\n",
       "        [ 8.,  6.],\n",
       "        [ 8.,  7.],\n",
       "        [ 8.,  8.],\n",
       "        [ 8.,  9.],\n",
       "        [ 9.,  2.],\n",
       "        [ 9.,  4.],\n",
       "        [ 9.,  8.],\n",
       "        [ 9.,  9.],\n",
       "        [10.,  2.],\n",
       "        [10.,  3.],\n",
       "        [10.,  4.],\n",
       "        [10.,  7.],\n",
       "        [10.,  8.]])"
      ]
     },
     "execution_count": 5,
     "metadata": {},
     "output_type": "execute_result"
    }
   ],
   "source": [
    "data = datasets[6]\n",
    "X = torch.tensor([list(sublist[:2]) for sublist in data], dtype=torch.float32)\n",
    "y = torch.tensor([item for sublist in data for item in sublist[2:]], dtype=torch.float32).unsqueeze(1)\n",
    "\n",
    "\n",
    "#scale the data to be between 0 and 1\n",
    "# X = X / X.max()\n",
    "X"
   ]
  },
  {
   "cell_type": "markdown",
   "metadata": {
    "editable": true,
    "slideshow": {
     "slide_type": ""
    },
    "tags": []
   },
   "source": [
    "# Network1\n"
   ]
  },
  {
   "cell_type": "code",
   "execution_count": 6,
   "metadata": {},
   "outputs": [],
   "source": [
    "# Create a PyTorch dataset and data loader\n",
    "dataset = TensorDataset(X, y)\n",
    "dataloader = DataLoader(dataset, batch_size=1, shuffle=True)\n",
    "\n",
    "model = Network1()\n",
    "criterion = nn.BCELoss()\n",
    "optimizer = torch.optim.SGD(model.parameters(), lr=0.01)\n"
   ]
  },
  {
   "cell_type": "code",
   "execution_count": 7,
   "metadata": {},
   "outputs": [
    {
     "name": "stdout",
     "output_type": "stream",
     "text": [
      "Epoch [20/200], Loss: 1.1780, Accuracy: 51.28\n",
      "Epoch [40/200], Loss: 0.3624, Accuracy: 51.28\n",
      "Epoch [60/200], Loss: 0.2640, Accuracy: 51.28\n",
      "Epoch [80/200], Loss: 1.0595, Accuracy: 51.28\n",
      "Epoch [100/200], Loss: 0.1234, Accuracy: 58.97\n",
      "Epoch [120/200], Loss: 0.5782, Accuracy: 76.92\n",
      "Epoch [140/200], Loss: 0.4619, Accuracy: 87.18\n",
      "Epoch [160/200], Loss: 0.2291, Accuracy: 100.00\n",
      "Epoch [180/200], Loss: 0.0104, Accuracy: 100.00\n",
      "Epoch [200/200], Loss: 0.5077, Accuracy: 100.00\n"
     ]
    },
    {
     "data": {
      "image/png": "[encoded data removed]",
      "text/plain": [
       "<Figure size 640x480 with 1 Axes>"
      ]
     },
     "metadata": {},
     "output_type": "display_data"
    }
   ],
   "source": [
    "\n",
    "# Train the model\n",
    "num_epochs = 200\n",
    "for epoch in range(num_epochs):\n",
    "    for X_batch, y_batch in dataloader:\n",
    "        optimizer.zero_grad()\n",
    "        y_pred = model(X_batch)\n",
    "        loss = criterion(y_pred, y_batch)\n",
    "        loss.backward()\n",
    "        optimizer.step()\n",
    "\n",
    "    # calculate accuracy for all training data\n",
    "    y_pred = model(X)\n",
    "    y_pred = torch.round(y_pred)\n",
    "    correct = (y_pred == y).sum().item()\n",
    "    accuracy = correct / len(y)\n",
    "    \n",
    "\n",
    "    if accuracy > 0.99:\n",
    "        print(\"HOORAY\")\n",
    "        \n",
    "    if (epoch + 1) % 20 == 0:\n",
    "        print(f\"Epoch [{epoch + 1}/{num_epochs}], Loss: {loss:.4f}, Accuracy: {accuracy * 100:.2f}\")\n",
    "        \n",
    "plot_decision_boundary(model, X, y) "
   ]
  },
  {
   "cell_type": "markdown",
   "metadata": {},
   "source": [
    "# Network 2"
   ]
  },
  {
   "cell_type": "code",
   "execution_count": 8,
   "metadata": {
    "editable": true,
    "slideshow": {
     "slide_type": ""
    },
    "tags": []
   },
   "outputs": [],
   "source": [
    "# Create a PyTorch dataset and data loader\n",
    "dataset = TensorDataset(X, y)\n",
    "dataloader = DataLoader(dataset, batch_size=8, shuffle=True)\n",
    "\n",
    "\n",
    "model = Network2()\n",
    "criterion = nn.BCELoss()\n",
    "optimizer = torch.optim.SGD(model.parameters(),lr=0.005)\n",
    "total_epochs = 0\n",
    "# optimizer = torch.optim.Adam(model.parameters(), lr=0.001)\n"
   ]
  },
  {
   "cell_type": "code",
   "execution_count": 9,
   "metadata": {
    "editable": true,
    "slideshow": {
     "slide_type": ""
    },
    "tags": []
   },
   "outputs": [
    {
     "name": "stdout",
     "output_type": "stream",
     "text": [
      "Epoch [20/500] total 20, Loss: 0.3713, Accuracy: 92.31\n",
      "Epoch [40/500] total 40, Loss: 0.3916, Accuracy: 94.87\n",
      "Epoch [60/500] total 60, Loss: 0.0077, Accuracy: 94.87\n",
      "Epoch [80/500] total 80, Loss: 0.1722, Accuracy: 97.44\n",
      "Epoch [100/500] total 100, Loss: 0.0203, Accuracy: 97.44\n",
      "Epoch [120/500] total 120, Loss: 0.0572, Accuracy: 97.44\n",
      "Epoch [140/500] total 140, Loss: 0.0733, Accuracy: 97.44\n",
      "Epoch [160/500] total 160, Loss: 0.0151, Accuracy: 97.44\n",
      "Epoch [180/500] total 180, Loss: 0.0253, Accuracy: 97.44\n",
      "HOORAY\n"
     ]
    },
    {
     "data": {
      "image/png": "[encoded data removed]",
      "text/plain": [
       "<Figure size 640x480 with 1 Axes>"
      ]
     },
     "metadata": {},
     "output_type": "display_data"
    }
   ],
   "source": [
    "# Train the model\n",
    "num_epochs = 500\n",
    "for epoch in range(num_epochs):\n",
    "    for X_batch, y_batch in dataloader:\n",
    "        # print(f\"y_pred is {y_pred} and y_batch is {y_batch}\")\n",
    "        y_pred = model(X_batch)\n",
    "        \n",
    "        # replace y_pred nan with 0\n",
    "        # y_pred = torch.nan_to_num(y_pred)\n",
    "\n",
    "        logging.debug(f\"y_pred is {y_pred} and y_batch is {y_batch}\")\n",
    "        \n",
    "        loss = criterion(y_pred, y_batch)\n",
    "        optimizer.zero_grad()\n",
    "\n",
    "        loss.backward()\n",
    "        # clip the gradients\n",
    "        # for param in model.parameters():\n",
    "        #     param.grad.data.clamp_(-100, 100)\n",
    "\n",
    "        optimizer.step()\n",
    "\n",
    "        for name, param in model.named_parameters(): \n",
    "            logging.debug(f\"{name} has gradient {param.grad}\")\n",
    "\n",
    "    # calculate accuracy for all training data\n",
    "    y_pred = model(X)\n",
    "    y_pred = torch.round(y_pred)\n",
    "    correct = (y_pred == y).sum().item()\n",
    "    accuracy = correct / len(y)\n",
    "    total_epochs += 1\n",
    "    \n",
    "\n",
    "    if accuracy > 0.99:\n",
    "        print(\"HOORAY\")\n",
    "        break\n",
    "    if (epoch + 1) % 20 == 0:\n",
    "        print(f\"Epoch [{epoch + 1}/{num_epochs}] total {total_epochs}, Loss: {loss:.4f}, Accuracy: {accuracy * 100:.2f}\")\n",
    "    \n",
    "\n",
    "plot_decision_boundary(model, X, y)"
   ]
  },
  {
   "cell_type": "code",
   "execution_count": null,
   "metadata": {
    "editable": true,
    "slideshow": {
     "slide_type": ""
    },
    "tags": []
   },
   "outputs": [],
   "source": [
    "# print all parameters of the model\n",
    "for name, param in model.named_parameters():\n",
    "    print(f\"{name} has shape {param.shape} and value {param}\")\n",
    "\n",
    "# print model gradients\n",
    "for name, param in model.named_parameters(): \n",
    "    print(f\"{name} has gradient {param.grad}\")\n",
    "    "
   ]
  }
 ],
 "metadata": {
  "kernelspec": {
   "display_name": "Python 3 (ipykernel)",
   "language": "python",
   "name": "python3"
  },
  "language_info": {
   "codemirror_mode": {
    "name": "ipython",
    "version": 3
   },
   "file_extension": ".py",
   "mimetype": "text/x-python",
   "name": "python",
   "nbconvert_exporter": "python",
   "pygments_lexer": "ipython3",
   "version": "3.12.0"
  }
 },
 "nbformat": 4,
 "nbformat_minor": 4
}
