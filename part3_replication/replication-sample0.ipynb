{
 "cells": [
  {
   "cell_type": "code",
   "execution_count": 1,
   "metadata": {
    "editable": true,
    "slideshow": {
     "slide_type": ""
    },
    "tags": []
   },
   "outputs": [],
   "source": [
    "import torch\n",
    "import torch.nn as nn\n",
    "\n",
    "\n",
    "from torch.utils.data import TensorDataset, DataLoader\n",
    "\n",
    "import matplotlib.pyplot as plt\n",
    "\n",
    "from common import *"
   ]
  },
  {
   "cell_type": "code",
   "execution_count": 2,
   "metadata": {},
   "outputs": [],
   "source": [
    "import logging, sys\n",
    "logging.basicConfig(stream=sys.stderr, level=logging.INFO)\n",
    "logging.debug('A debug message!')\n"
   ]
  },
  {
   "cell_type": "code",
   "execution_count": 3,
   "metadata": {},
   "outputs": [],
   "source": [
    "torch.autograd.set_detect_anomaly(True)\n",
    "device = \"cpu\""
   ]
  },
  {
   "cell_type": "code",
   "execution_count": 4,
   "metadata": {},
   "outputs": [],
   "source": [
    "# read the data from the \"GeneratorInput.txt\" file\n",
    "def read_data(file_name):\n",
    "    with open(file_name, 'r') as file:\n",
    "        data = file.readlines()\n",
    "    return data\n",
    "\n",
    "raw_data = read_data(\"GeneratorInput.txt\")\n",
    "\n",
    "datasets = []\n",
    "y_idx = 0\n",
    "dataset = None\n",
    "for line in raw_data:\n",
    "    if len(line) <= 1:\n",
    "        datasets.append(dataset.copy())\n",
    "        y_idx = 0\n",
    "        dataset = []\n",
    "        continue\n",
    "    y_idx += 1\n",
    "    if dataset is None:\n",
    "        dataset = []\n",
    "    for x_idx,char in enumerate(line):\n",
    "        if char == '0' or char == '1':\n",
    "            dataset.append((y_idx,x_idx+1, int(char)))\n",
    "    "
   ]
  },
  {
   "cell_type": "code",
   "execution_count": 5,
   "metadata": {
    "editable": true,
    "slideshow": {
     "slide_type": ""
    },
    "tags": []
   },
   "outputs": [
    {
     "data": {
      "text/plain": [
       "tensor([[0.1000, 0.2000],\n",
       "        [0.2000, 0.1000],\n",
       "        [0.2000, 0.2000],\n",
       "        [0.2000, 0.5000],\n",
       "        [0.2000, 0.9000],\n",
       "        [0.2000, 1.0000],\n",
       "        [0.3000, 0.1000],\n",
       "        [0.3000, 0.5000],\n",
       "        [0.3000, 0.8000],\n",
       "        [0.4000, 0.4000],\n",
       "        [0.4000, 0.5000],\n",
       "        [0.4000, 0.6000],\n",
       "        [0.4000, 0.7000],\n",
       "        [0.4000, 0.8000],\n",
       "        [0.5000, 0.2000],\n",
       "        [0.5000, 0.3000],\n",
       "        [0.5000, 0.7000],\n",
       "        [0.6000, 0.4000],\n",
       "        [0.6000, 0.6000],\n",
       "        [0.7000, 0.4000],\n",
       "        [0.7000, 0.8000],\n",
       "        [0.7000, 0.9000],\n",
       "        [0.8000, 0.3000],\n",
       "        [0.8000, 0.5000],\n",
       "        [0.8000, 0.6000],\n",
       "        [0.8000, 0.7000],\n",
       "        [0.8000, 0.8000],\n",
       "        [0.8000, 1.0000],\n",
       "        [0.9000, 0.1000],\n",
       "        [0.9000, 0.2000],\n",
       "        [0.9000, 0.5000],\n",
       "        [0.9000, 0.7000],\n",
       "        [1.0000, 0.1000],\n",
       "        [1.0000, 0.2000],\n",
       "        [1.0000, 0.8000],\n",
       "        [1.0000, 0.9000],\n",
       "        [1.0000, 1.0000]])"
      ]
     },
     "execution_count": 5,
     "metadata": {},
     "output_type": "execute_result"
    }
   ],
   "source": [
    "data = datasets[0]\n",
    "X = torch.tensor([list(sublist[:2]) for sublist in data], dtype=torch.float32)\n",
    "y = torch.tensor([item for sublist in data for item in sublist[2:]], dtype=torch.float32).unsqueeze(1)\n",
    "\n",
    "\n",
    "#scale the data to be between 0 and 1\n",
    "X = X / X.max()\n",
    "\n",
    "X"
   ]
  },
  {
   "cell_type": "code",
   "execution_count": 6,
   "metadata": {},
   "outputs": [
    {
     "data": {
      "image/png": "[encoded data removed]",
      "text/plain": [
       "<Figure size 640x480 with 1 Axes>"
      ]
     },
     "metadata": {},
     "output_type": "display_data"
    }
   ],
   "source": [
    "# plot X and y\n",
    "plt.scatter(X[:,0], X[:,1], c=y)\n",
    "plt.show()\n"
   ]
  },
  {
   "cell_type": "markdown",
   "metadata": {},
   "source": [
    "# Network 2"
   ]
  },
  {
   "cell_type": "code",
   "execution_count": 12,
   "metadata": {
    "editable": true,
    "slideshow": {
     "slide_type": ""
    },
    "tags": []
   },
   "outputs": [],
   "source": [
    "# Create a PyTorch dataset and data loader\n",
    "dataset = TensorDataset(X, y)\n",
    "dataloader = DataLoader(dataset, batch_size=8, shuffle=True)\n",
    "\n",
    "\n",
    "model = Network6()\n",
    "criterion = nn.BCELoss()\n",
    "optimizer = torch.optim.SGD(model.parameters(),lr=1)\n",
    "total_epochs = 0\n",
    "# optimizer = torch.optim.Adam(model.parameters(), lr=0.001)\n"
   ]
  },
  {
   "cell_type": "code",
   "execution_count": 13,
   "metadata": {
    "editable": true,
    "slideshow": {
     "slide_type": ""
    },
    "tags": []
   },
   "outputs": [
    {
     "name": "stdout",
     "output_type": "stream",
     "text": [
      "Epoch [20/1000] total 20, Loss: 0.5774, Accuracy: 62.16\n",
      "Epoch [40/1000] total 40, Loss: 0.5310, Accuracy: 75.68\n",
      "Epoch [60/1000] total 60, Loss: 0.6557, Accuracy: 75.68\n",
      "Epoch [80/1000] total 80, Loss: 0.7357, Accuracy: 72.97\n",
      "Epoch [100/1000] total 100, Loss: 0.3052, Accuracy: 81.08\n",
      "Epoch [120/1000] total 120, Loss: 0.2343, Accuracy: 81.08\n",
      "Epoch [140/1000] total 140, Loss: 0.3333, Accuracy: 91.89\n",
      "Epoch [160/1000] total 160, Loss: 0.4363, Accuracy: 83.78\n",
      "Epoch [180/1000] total 180, Loss: 0.2517, Accuracy: 72.97\n",
      "Epoch [200/1000] total 200, Loss: 0.4984, Accuracy: 78.38\n",
      "Epoch [220/1000] total 220, Loss: 0.4459, Accuracy: 86.49\n",
      "Epoch [240/1000] total 240, Loss: 0.1685, Accuracy: 91.89\n",
      "Epoch [260/1000] total 260, Loss: 0.1211, Accuracy: 94.59\n",
      "Epoch [280/1000] total 280, Loss: 0.4578, Accuracy: 91.89\n",
      "Epoch [300/1000] total 300, Loss: 0.0386, Accuracy: 97.30\n",
      "Epoch [320/1000] total 320, Loss: 0.0256, Accuracy: 97.30\n",
      "HOORAY\n"
     ]
    },
    {
     "data": {
      "image/png": "[encoded data removed]",
      "text/plain": [
       "<Figure size 640x480 with 1 Axes>"
      ]
     },
     "metadata": {},
     "output_type": "display_data"
    }
   ],
   "source": [
    "# Train the model\n",
    "num_epochs = 1000\n",
    "for epoch in range(num_epochs):\n",
    "    for X_batch, y_batch in dataloader:\n",
    "        # print(f\"y_pred is {y_pred} and y_batch is {y_batch}\")\n",
    "        y_pred = model(X_batch)\n",
    "        \n",
    "        # replace y_pred nan with 0\n",
    "        # y_pred = torch.nan_to_num(y_pred)\n",
    "\n",
    "        # logging.debug(f\"y_pred is {y_pred} and y_batch is {y_batch}\")\n",
    "        \n",
    "        loss = criterion(y_pred, y_batch)\n",
    "        optimizer.zero_grad()\n",
    "\n",
    "        loss.backward()\n",
    "                \n",
    "        # clip the gradients\n",
    "\n",
    "        optimizer.step()\n",
    "\n",
    "        # with torch.no_grad():\n",
    "        #     for name, param in model.named_parameters():\n",
    "        #         if \"power\" in name:\n",
    "        #             param.clamp_(1, 10)\n",
    "\n",
    "    # calculate accuracy for all training data\n",
    "    y_pred = model(X)\n",
    "    y_pred = torch.round(y_pred)\n",
    "    correct = (y_pred == y).sum().item()\n",
    "    accuracy = correct / len(y)\n",
    "    total_epochs += 1\n",
    "    \n",
    "\n",
    "    if accuracy > 0.99:\n",
    "        print(\"HOORAY\")\n",
    "        break\n",
    "    if (epoch + 1) % 20 == 0:\n",
    "        print(f\"Epoch [{epoch + 1}/{num_epochs}] total {total_epochs}, Loss: {loss:.4f}, Accuracy: {accuracy * 100:.2f}\")\n",
    "    \n",
    "\n",
    "plot_decision_boundary(model, X, y)"
   ]
  },
  {
   "cell_type": "code",
   "execution_count": 14,
   "metadata": {
    "editable": true,
    "slideshow": {
     "slide_type": ""
    },
    "tags": []
   },
   "outputs": [
    {
     "name": "stdout",
     "output_type": "stream",
     "text": [
      "fc1.bias_before has shape torch.Size([2]) and value Parameter containing:\n",
      "tensor([-1.4042, -0.3161], requires_grad=True)\n",
      "fc1.bias has shape torch.Size([2]) and value Parameter containing:\n",
      "tensor([-3.1209, -4.0687], requires_grad=True)\n",
      "fc1.synapses.0.0.power has shape torch.Size([1]) and value Parameter containing:\n",
      "tensor([1.1358], requires_grad=True)\n",
      "fc1.synapses.0.0.term_weights has shape torch.Size([3]) and value Parameter containing:\n",
      "tensor([ 5.5516, -0.0355,  2.1923], requires_grad=True)\n",
      "fc1.synapses.0.1.power has shape torch.Size([1]) and value Parameter containing:\n",
      "tensor([1.2031], requires_grad=True)\n",
      "fc1.synapses.0.1.term_weights has shape torch.Size([3]) and value Parameter containing:\n",
      "tensor([5.7745, 1.3030, 1.7214], requires_grad=True)\n",
      "fc1.synapses.1.0.power has shape torch.Size([1]) and value Parameter containing:\n",
      "tensor([2.0030], requires_grad=True)\n",
      "fc1.synapses.1.0.term_weights has shape torch.Size([3]) and value Parameter containing:\n",
      "tensor([5.5092, 1.3970, 0.5434], requires_grad=True)\n",
      "fc1.synapses.1.1.power has shape torch.Size([1]) and value Parameter containing:\n",
      "tensor([1.3269], requires_grad=True)\n",
      "fc1.synapses.1.1.term_weights has shape torch.Size([3]) and value Parameter containing:\n",
      "tensor([6.1724, 2.1788, 0.6219], requires_grad=True)\n",
      "module4.bias1 has shape torch.Size([1]) and value Parameter containing:\n",
      "tensor([0.0338], requires_grad=True)\n",
      "module4.bias2 has shape torch.Size([1]) and value Parameter containing:\n",
      "tensor([-0.5306], requires_grad=True)\n",
      "module4.bias3 has shape torch.Size([1]) and value Parameter containing:\n",
      "tensor([-0.5639], requires_grad=True)\n",
      "module4.add_synapse1.power has shape torch.Size([1]) and value Parameter containing:\n",
      "tensor([3.7333], requires_grad=True)\n",
      "module4.add_synapse1.term_weights has shape torch.Size([3]) and value Parameter containing:\n",
      "tensor([-1.0730,  3.7014, -0.8241], requires_grad=True)\n",
      "module4.add_synapse2.power has shape torch.Size([1]) and value Parameter containing:\n",
      "tensor([2.5039], requires_grad=True)\n",
      "module4.add_synapse2.term_weights has shape torch.Size([3]) and value Parameter containing:\n",
      "tensor([-2.7559,  0.7329, -1.3629], requires_grad=True)\n",
      "module4.product_synapse1.power has shape torch.Size([1]) and value Parameter containing:\n",
      "tensor([3.7450], requires_grad=True)\n",
      "module4.product_synapse1.term_weights has shape torch.Size([3]) and value Parameter containing:\n",
      "tensor([6.4681, 0.4153, 0.2679], requires_grad=True)\n",
      "module4.product_synapse2.power has shape torch.Size([1]) and value Parameter containing:\n",
      "tensor([5.4846], requires_grad=True)\n",
      "module4.product_synapse2.term_weights has shape torch.Size([3]) and value Parameter containing:\n",
      "tensor([ 6.1526, -2.6032, -1.0186], requires_grad=True)\n",
      "fc1.bias_before has gradient None\n",
      "fc1.bias has gradient tensor([ 0.0463, -0.0362])\n",
      "fc1.synapses.0.0.power has gradient tensor([-0.0369])\n",
      "fc1.synapses.0.0.term_weights has gradient tensor([-0.0048,  0.0000,  0.0000])\n",
      "fc1.synapses.0.1.power has gradient tensor([-0.0621])\n",
      "fc1.synapses.0.1.term_weights has gradient tensor([0.0041, 0.0000, 0.0000])\n",
      "fc1.synapses.1.0.power has gradient tensor([0.0334])\n",
      "fc1.synapses.1.0.term_weights has gradient tensor([-0.0140,  0.0000,  0.0000])\n",
      "fc1.synapses.1.1.power has gradient tensor([0.0572])\n",
      "fc1.synapses.1.1.term_weights has gradient tensor([-0.0104,  0.0000,  0.0000])\n",
      "module4.bias1 has gradient None\n",
      "module4.bias2 has gradient None\n",
      "module4.bias3 has gradient tensor([0.1423])\n",
      "module4.add_synapse1.power has gradient tensor([0.0009])\n",
      "module4.add_synapse1.term_weights has gradient tensor([0.0056, 0.0280, 0.0000])\n",
      "module4.add_synapse2.power has gradient tensor([0.0024])\n",
      "module4.add_synapse2.term_weights has gradient tensor([0.0005, 0.0000, 0.0000])\n",
      "module4.product_synapse1.power has gradient tensor([0.0050])\n",
      "module4.product_synapse1.term_weights has gradient tensor([-0.0071, -0.0113,  0.0000])\n",
      "module4.product_synapse2.power has gradient tensor([-0.0006])\n",
      "module4.product_synapse2.term_weights has gradient tensor([-0.0019,  0.0137,  0.0038])\n"
     ]
    }
   ],
   "source": [
    "# print all parameters of the model\n",
    "for name, param in model.named_parameters():\n",
    "    print(f\"{name} has shape {param.shape} and value {param}\")\n",
    "\n",
    "# print model gradients\n",
    "for name, param in model.named_parameters(): \n",
    "    print(f\"{name} has gradient {param.grad}\")\n",
    "    "
   ]
  }
 ],
 "metadata": {
  "kernelspec": {
   "display_name": "Python 3 (ipykernel)",
   "language": "python",
   "name": "python3"
  },
  "language_info": {
   "codemirror_mode": {
    "name": "ipython",
    "version": 3
   },
   "file_extension": ".py",
   "mimetype": "text/x-python",
   "name": "python",
   "nbconvert_exporter": "python",
   "pygments_lexer": "ipython3",
   "version": "3.11.7"
  }
 },
 "nbformat": 4,
 "nbformat_minor": 4
}
