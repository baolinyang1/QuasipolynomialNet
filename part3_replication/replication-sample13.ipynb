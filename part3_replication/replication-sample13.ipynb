{
 "cells": [
  {
   "cell_type": "code",
   "execution_count": 1,
   "metadata": {
    "editable": true,
    "slideshow": {
     "slide_type": ""
    },
    "tags": []
   },
   "outputs": [],
   "source": [
    "import torch\n",
    "import torch.nn as nn\n",
    "\n",
    "\n",
    "import matplotlib.pyplot as plt\n",
    "\n",
    "from torch.utils.data import TensorDataset, DataLoader\n",
    "\n",
    "from common import *"
   ]
  },
  {
   "cell_type": "code",
   "execution_count": 2,
   "metadata": {},
   "outputs": [],
   "source": [
    "import logging, sys\n",
    "logging.basicConfig(stream=sys.stderr, level=logging.INFO)\n",
    "logging.debug('A debug message!')\n"
   ]
  },
  {
   "cell_type": "code",
   "execution_count": 3,
   "metadata": {},
   "outputs": [],
   "source": [
    "torch.autograd.set_detect_anomaly(True)\n",
    "device = \"cpu\""
   ]
  },
  {
   "cell_type": "code",
   "execution_count": 4,
   "metadata": {},
   "outputs": [],
   "source": [
    "# read the data from the \"GeneratorInput.txt\" file\n",
    "def read_data(file_name):\n",
    "    with open(file_name, 'r') as file:\n",
    "        data = file.readlines()\n",
    "    return data\n",
    "\n",
    "raw_data = read_data(\"GeneratorInput.txt\")\n",
    "\n",
    "datasets = []\n",
    "y_idx = 0\n",
    "dataset = None\n",
    "for line in raw_data:\n",
    "    if len(line) <= 1:\n",
    "        datasets.append(dataset.copy())\n",
    "        y_idx = 0\n",
    "        dataset = []\n",
    "        continue\n",
    "    y_idx += 1\n",
    "    if dataset is None:\n",
    "        dataset = []\n",
    "    for x_idx,char in enumerate(line):\n",
    "        if char == '0' or char == '1':\n",
    "            dataset.append((y_idx,x_idx+1, int(char)))\n",
    "    "
   ]
  },
  {
   "cell_type": "code",
   "execution_count": 5,
   "metadata": {
    "editable": true,
    "slideshow": {
     "slide_type": ""
    },
    "tags": []
   },
   "outputs": [
    {
     "data": {
      "text/plain": [
       "tensor([[0.1000, 0.2000],\n",
       "        [0.1000, 0.3000],\n",
       "        [0.1000, 0.5000],\n",
       "        [0.1000, 0.8000],\n",
       "        [0.1000, 0.9000],\n",
       "        [0.2000, 0.1000],\n",
       "        [0.2000, 0.4000],\n",
       "        [0.2000, 0.7000],\n",
       "        [0.3000, 0.3000],\n",
       "        [0.3000, 0.4000],\n",
       "        [0.3000, 0.5000],\n",
       "        [0.3000, 0.6000],\n",
       "        [0.3000, 0.8000],\n",
       "        [0.3000, 1.0000],\n",
       "        [0.4000, 0.1000],\n",
       "        [0.4000, 0.5000],\n",
       "        [0.5000, 0.1000],\n",
       "        [0.5000, 0.3000],\n",
       "        [0.5000, 1.0000],\n",
       "        [0.6000, 0.4000],\n",
       "        [0.6000, 0.6000],\n",
       "        [0.6000, 0.8000],\n",
       "        [0.6000, 1.0000],\n",
       "        [0.7000, 0.1000],\n",
       "        [0.7000, 0.2000],\n",
       "        [0.7000, 0.3000],\n",
       "        [0.7000, 0.4000],\n",
       "        [0.7000, 0.5000],\n",
       "        [0.7000, 0.7000],\n",
       "        [0.7000, 0.9000],\n",
       "        [0.8000, 0.1000],\n",
       "        [0.8000, 0.4000],\n",
       "        [0.8000, 0.5000],\n",
       "        [0.8000, 0.8000],\n",
       "        [0.8000, 0.9000],\n",
       "        [0.8000, 1.0000],\n",
       "        [0.9000, 0.2000],\n",
       "        [0.9000, 0.3000],\n",
       "        [0.9000, 0.5000],\n",
       "        [0.9000, 0.6000],\n",
       "        [0.9000, 1.0000],\n",
       "        [1.0000, 0.4000],\n",
       "        [1.0000, 0.5000],\n",
       "        [1.0000, 0.6000],\n",
       "        [1.0000, 0.7000],\n",
       "        [1.0000, 0.8000]])"
      ]
     },
     "execution_count": 5,
     "metadata": {},
     "output_type": "execute_result"
    }
   ],
   "source": [
    "data = datasets[13]\n",
    "X = torch.tensor([list(sublist[:2]) for sublist in data], dtype=torch.float32)\n",
    "y = torch.tensor([item for sublist in data for item in sublist[2:]], dtype=torch.float32).unsqueeze(1)\n",
    "\n",
    "\n",
    "#scale the data to be between 0 and 1\n",
    "X = X / X.max()\n",
    "X"
   ]
  },
  {
   "cell_type": "code",
   "execution_count": 6,
   "metadata": {},
   "outputs": [
    {
     "data": {
      "image/png": "[encoded data removed]",
      "text/plain": [
       "<Figure size 640x480 with 1 Axes>"
      ]
     },
     "metadata": {},
     "output_type": "display_data"
    }
   ],
   "source": [
    "# plot X and y\n",
    "plt.scatter(X[:,0], X[:,1], c=y)\n",
    "plt.show()\n"
   ]
  },
  {
   "cell_type": "markdown",
   "metadata": {
    "editable": true,
    "slideshow": {
     "slide_type": ""
    },
    "tags": []
   },
   "source": [
    "# Network1\n"
   ]
  },
  {
   "cell_type": "raw",
   "metadata": {},
   "source": [
    "# Create a PyTorch dataset and data loader\n",
    "dataset = TensorDataset(X, y)\n",
    "dataloader = DataLoader(dataset, batch_size=1, shuffle=True)\n",
    "\n",
    "model = Network1()\n",
    "criterion = nn.BCELoss()\n",
    "optimizer = torch.optim.SGD(model.parameters(), lr=0.001)\n",
    "\n",
    "# Train the model\n",
    "num_epochs = 200\n",
    "for epoch in range(num_epochs):\n",
    "    for X_batch, y_batch in dataloader:\n",
    "        optimizer.zero_grad()\n",
    "        y_pred = model(X_batch)\n",
    "        loss = criterion(y_pred, y_batch)\n",
    "        loss.backward()\n",
    "        optimizer.step()\n",
    "\n",
    "    # calculate accuracy for all training data\n",
    "    y_pred = model(X)\n",
    "    y_pred = torch.round(y_pred)\n",
    "    correct = (y_pred == y).sum().item()\n",
    "    accuracy = correct / len(y)\n",
    "    \n",
    "\n",
    "    if (epoch + 1) % 20 == 0:\n",
    "        print(f\"Epoch [{epoch + 1}/{num_epochs}], Loss: {loss:.4f}, Accuracy: {accuracy * 100:.2f}\")\n",
    "        \n",
    "plot_decision_boundary(model, X, y) "
   ]
  },
  {
   "cell_type": "markdown",
   "metadata": {},
   "source": [
    "# Network 2"
   ]
  },
  {
   "cell_type": "code",
   "execution_count": 7,
   "metadata": {
    "editable": true,
    "slideshow": {
     "slide_type": ""
    },
    "tags": []
   },
   "outputs": [],
   "source": [
    "# Create a PyTorch dataset and data loader\n",
    "dataset = TensorDataset(X, y)\n",
    "dataloader = DataLoader(dataset, batch_size=8, shuffle=True)\n",
    "\n",
    "\n",
    "model = Network4()\n",
    "criterion = nn.BCELoss()\n",
    "optimizer = torch.optim.SGD(model.parameters(),lr=0.005)\n",
    "total_epochs = 0\n",
    "# optimizer = torch.optim.Adam(model.parameters(), lr=0.001)\n"
   ]
  },
  {
   "cell_type": "code",
   "execution_count": 15,
   "metadata": {
    "editable": true,
    "slideshow": {
     "slide_type": ""
    },
    "tags": []
   },
   "outputs": [
    {
     "name": "stdout",
     "output_type": "stream",
     "text": [
      "Epoch [20/3000] total 5320, Loss: 0.0709, Accuracy: 95.65\n",
      "Epoch [40/3000] total 5340, Loss: 0.0094, Accuracy: 95.65\n",
      "Epoch [60/3000] total 5360, Loss: 0.0551, Accuracy: 95.65\n",
      "Epoch [80/3000] total 5380, Loss: 0.2063, Accuracy: 95.65\n",
      "Epoch [100/3000] total 5400, Loss: 0.0809, Accuracy: 95.65\n",
      "Epoch [120/3000] total 5420, Loss: 0.0047, Accuracy: 95.65\n",
      "Epoch [140/3000] total 5440, Loss: 0.0846, Accuracy: 95.65\n",
      "Epoch [160/3000] total 5460, Loss: 0.0181, Accuracy: 95.65\n",
      "Epoch [180/3000] total 5480, Loss: 0.0195, Accuracy: 95.65\n",
      "Epoch [200/3000] total 5500, Loss: 0.0532, Accuracy: 95.65\n",
      "Epoch [220/3000] total 5520, Loss: 0.1525, Accuracy: 95.65\n",
      "Epoch [240/3000] total 5540, Loss: 0.0083, Accuracy: 95.65\n",
      "Epoch [260/3000] total 5560, Loss: 0.0486, Accuracy: 95.65\n",
      "Epoch [280/3000] total 5580, Loss: 0.0299, Accuracy: 95.65\n",
      "Epoch [300/3000] total 5600, Loss: 0.0172, Accuracy: 95.65\n",
      "Epoch [320/3000] total 5620, Loss: 0.0058, Accuracy: 95.65\n",
      "Epoch [340/3000] total 5640, Loss: 0.0016, Accuracy: 95.65\n",
      "Epoch [360/3000] total 5660, Loss: 0.0684, Accuracy: 95.65\n",
      "Epoch [380/3000] total 5680, Loss: 0.0541, Accuracy: 95.65\n",
      "Epoch [400/3000] total 5700, Loss: 0.1601, Accuracy: 95.65\n",
      "Epoch [420/3000] total 5720, Loss: 0.0128, Accuracy: 95.65\n",
      "Epoch [440/3000] total 5740, Loss: 0.1318, Accuracy: 95.65\n",
      "Epoch [460/3000] total 5760, Loss: 0.0276, Accuracy: 95.65\n",
      "Epoch [480/3000] total 5780, Loss: 0.0737, Accuracy: 95.65\n",
      "Epoch [500/3000] total 5800, Loss: 0.0098, Accuracy: 95.65\n",
      "Epoch [520/3000] total 5820, Loss: 0.1106, Accuracy: 95.65\n",
      "Epoch [540/3000] total 5840, Loss: 0.0632, Accuracy: 95.65\n",
      "Epoch [560/3000] total 5860, Loss: 0.0430, Accuracy: 95.65\n",
      "Epoch [580/3000] total 5880, Loss: 0.0242, Accuracy: 95.65\n",
      "Epoch [600/3000] total 5900, Loss: 0.1370, Accuracy: 95.65\n",
      "Epoch [620/3000] total 5920, Loss: 0.0964, Accuracy: 95.65\n",
      "Epoch [640/3000] total 5940, Loss: 0.0612, Accuracy: 95.65\n",
      "Epoch [660/3000] total 5960, Loss: 0.2598, Accuracy: 95.65\n",
      "Epoch [680/3000] total 5980, Loss: 0.1530, Accuracy: 95.65\n",
      "Epoch [700/3000] total 6000, Loss: 0.1381, Accuracy: 95.65\n",
      "Epoch [720/3000] total 6020, Loss: 0.0394, Accuracy: 95.65\n",
      "Epoch [740/3000] total 6040, Loss: 0.1336, Accuracy: 95.65\n",
      "Epoch [760/3000] total 6060, Loss: 0.0698, Accuracy: 95.65\n",
      "Epoch [780/3000] total 6080, Loss: 0.0696, Accuracy: 95.65\n",
      "Epoch [800/3000] total 6100, Loss: 0.1371, Accuracy: 97.83\n",
      "Epoch [820/3000] total 6120, Loss: 0.1284, Accuracy: 95.65\n",
      "Epoch [840/3000] total 6140, Loss: 0.0026, Accuracy: 95.65\n",
      "Epoch [860/3000] total 6160, Loss: 0.1293, Accuracy: 97.83\n",
      "Epoch [880/3000] total 6180, Loss: 0.0694, Accuracy: 97.83\n",
      "Epoch [900/3000] total 6200, Loss: 0.2427, Accuracy: 97.83\n",
      "Epoch [920/3000] total 6220, Loss: 0.0890, Accuracy: 97.83\n",
      "Epoch [940/3000] total 6240, Loss: 0.1308, Accuracy: 97.83\n",
      "HOORAY\n"
     ]
    },
    {
     "data": {
      "image/png": "[encoded data removed]",
      "text/plain": [
       "<Figure size 640x480 with 1 Axes>"
      ]
     },
     "metadata": {},
     "output_type": "display_data"
    }
   ],
   "source": [
    "# Train the model\n",
    "num_epochs = 3000\n",
    "for epoch in range(num_epochs):\n",
    "    for X_batch, y_batch in dataloader:\n",
    "        # print(f\"y_pred is {y_pred} and y_batch is {y_batch}\")\n",
    "        y_pred = model(X_batch)\n",
    "        \n",
    "        # replace y_pred nan with 0\n",
    "        # y_pred = torch.nan_to_num(y_pred)\n",
    "\n",
    "        # logging.debug(f\"y_pred is {y_pred} and y_batch is {y_batch}\")\n",
    "        \n",
    "        loss = criterion(y_pred, y_batch)\n",
    "        optimizer.zero_grad()\n",
    "\n",
    "        loss.backward()\n",
    "        # clip the gradients\n",
    "        # for param in model.parameters():\n",
    "        #     param.grad.data.clamp_(-100, 100)\n",
    "\n",
    "        optimizer.step()\n",
    "\n",
    "        # for name, param in model.named_parameters(): \n",
    "        #     logging.debug(f\"{name} has gradient {param.grad}\")\n",
    "\n",
    "    # calculate accuracy for all training data\n",
    "    y_pred = model(X)\n",
    "    y_pred = torch.round(y_pred)\n",
    "    correct = (y_pred == y).sum().item()\n",
    "    accuracy = correct / len(y)\n",
    "    total_epochs += 1\n",
    "    \n",
    "\n",
    "    if accuracy > 0.99:\n",
    "        print(\"HOORAY\")\n",
    "        break\n",
    "    if (epoch + 1) % 20 == 0:\n",
    "        print(f\"Epoch [{epoch + 1}/{num_epochs}] total {total_epochs}, Loss: {loss:.4f}, Accuracy: {accuracy * 100:.2f}\")\n",
    "    \n",
    "\n",
    "plot_decision_boundary(model, X, y)"
   ]
  },
  {
   "cell_type": "code",
   "execution_count": 16,
   "metadata": {
    "editable": true,
    "slideshow": {
     "slide_type": ""
    },
    "tags": []
   },
   "outputs": [
    {
     "name": "stdout",
     "output_type": "stream",
     "text": [
      "polynomial.bias_before has shape torch.Size([2]) and value Parameter containing:\n",
      "tensor([0.7519, 0.0108], requires_grad=True)\n",
      "polynomial.bias has shape torch.Size([1]) and value Parameter containing:\n",
      "tensor([-2.0349], requires_grad=True)\n",
      "polynomial.synapses.0.0.power has shape torch.Size([1]) and value Parameter containing:\n",
      "tensor([-2.7119], requires_grad=True)\n",
      "polynomial.synapses.0.0.term_weights has shape torch.Size([3]) and value Parameter containing:\n",
      "tensor([-2.2966,  0.2411, -0.0082], requires_grad=True)\n",
      "polynomial.synapses.0.1.power has shape torch.Size([1]) and value Parameter containing:\n",
      "tensor([2.1155], requires_grad=True)\n",
      "polynomial.synapses.0.1.term_weights has shape torch.Size([3]) and value Parameter containing:\n",
      "tensor([ 0.0273, -2.2497, -1.1504], requires_grad=True)\n",
      "product.bias_before has shape torch.Size([2]) and value Parameter containing:\n",
      "tensor([0.9638, 0.5058], requires_grad=True)\n",
      "product.bias has shape torch.Size([1]) and value Parameter containing:\n",
      "tensor([-2.0455], requires_grad=True)\n",
      "product.synapses.0.0.power has shape torch.Size([1]) and value Parameter containing:\n",
      "tensor([-2.1787], requires_grad=True)\n",
      "product.synapses.0.0.term_weights has shape torch.Size([3]) and value Parameter containing:\n",
      "tensor([ 2.7078, -1.2218, -1.1155], requires_grad=True)\n",
      "product.synapses.0.1.power has shape torch.Size([1]) and value Parameter containing:\n",
      "tensor([1.2932], requires_grad=True)\n",
      "product.synapses.0.1.term_weights has shape torch.Size([3]) and value Parameter containing:\n",
      "tensor([3.1337, 0.5850, 0.4065], requires_grad=True)\n",
      "polynomial.bias_before has gradient None\n",
      "polynomial.bias has gradient tensor([0.0853])\n",
      "polynomial.synapses.0.0.power has gradient tensor([0.2174])\n",
      "polynomial.synapses.0.0.term_weights has gradient tensor([0.1452, 0.0000, 0.0000])\n",
      "polynomial.synapses.0.1.power has gradient tensor([-0.0003])\n",
      "polynomial.synapses.0.1.term_weights has gradient tensor([0.0526, 0.0000, 0.0000])\n",
      "product.bias_before has gradient None\n",
      "product.bias has gradient tensor([0.0853])\n",
      "product.synapses.0.0.power has gradient tensor([-0.2149])\n",
      "product.synapses.0.0.term_weights has gradient tensor([0.2476, 0.0000, 0.0000])\n",
      "product.synapses.0.1.power has gradient tensor([-0.1725])\n",
      "product.synapses.0.1.term_weights has gradient tensor([0.2139, 0.0000, 0.0000])\n"
     ]
    }
   ],
   "source": [
    "# print all parameters of the model\n",
    "for name, param in model.named_parameters():\n",
    "    print(f\"{name} has shape {param.shape} and value {param}\")\n",
    "\n",
    "# print model gradients\n",
    "for name, param in model.named_parameters(): \n",
    "    print(f\"{name} has gradient {param.grad}\")\n",
    "    "
   ]
  },
  {
   "cell_type": "code",
   "execution_count": null,
   "metadata": {},
   "outputs": [],
   "source": []
  }
 ],
 "metadata": {
  "kernelspec": {
   "display_name": "Python 3 (ipykernel)",
   "language": "python",
   "name": "python3"
  },
  "language_info": {
   "codemirror_mode": {
    "name": "ipython",
    "version": 3
   },
   "file_extension": ".py",
   "mimetype": "text/x-python",
   "name": "python",
   "nbconvert_exporter": "python",
   "pygments_lexer": "ipython3",
   "version": "3.11.7"
  }
 },
 "nbformat": 4,
 "nbformat_minor": 4
}
