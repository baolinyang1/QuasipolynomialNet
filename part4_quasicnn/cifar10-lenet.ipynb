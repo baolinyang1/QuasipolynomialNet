{
 "cells": [
  {
   "cell_type": "code",
   "execution_count": 1,
   "metadata": {
    "id": "a7hjABHqp0XL",
    "tags": []
   },
   "outputs": [],
   "source": [
    "\n",
    "import torch\n",
    "import torch.nn as nn\n",
    "import torchvision\n",
    "from torchvision import transforms\n",
    "\n",
    "from torch.nn import functional as F\n",
    "\n",
    "import time\n",
    "import math\n",
    "\n",
    "import matplotlib.pyplot as plt"
   ]
  },
  {
   "cell_type": "code",
   "execution_count": 2,
   "metadata": {
    "id": "keOWHb2z9WMT",
    "tags": []
   },
   "outputs": [
    {
     "name": "stdout",
     "output_type": "stream",
     "text": [
      "2.2.0\n"
     ]
    },
    {
     "data": {
      "text/plain": [
       "device(type='cpu')"
      ]
     },
     "execution_count": 2,
     "metadata": {},
     "output_type": "execute_result"
    }
   ],
   "source": [
    "device = torch.device('cuda:0' if torch.cuda.is_available() else 'cpu')\n",
    "\n",
    "# print pytorch version\n",
    "print(torch.__version__)\n",
    "\n",
    "EXPERIMENT_ID = '6_5'\n",
    "device"
   ]
  },
  {
   "cell_type": "code",
   "execution_count": 3,
   "metadata": {
    "id": "VUlYcV55p9vo",
    "tags": []
   },
   "outputs": [],
   "source": [
    "def create_data_loader(batch_size):\n",
    "  # Split the provided CIFAR-10 train set (50,000 images) into your train and val sets\n",
    "  # Use the first 40,000 images as your train set and the remaining 10,000 images as val set\n",
    "  # Use all 10,000 images in the provided test set as your test set\n",
    "\n",
    "  transform = transforms.Compose([\n",
    "    transforms.ToTensor(),\n",
    "      # This is the mean and the average of the cifar db because we are normalizing it.\n",
    "    transforms.Normalize((0.4914, 0.4822, 0.4465), (0.2470, 0.2435, 0.2616)), \n",
    "  ])\n",
    "\n",
    "  # load cifar\n",
    "  train_set = torchvision.datasets.CIFAR10(root='./data', train=True, download=True, transform=transform)\n",
    "  test_set = torchvision.datasets.CIFAR10(root='./data', train=False, download=True, transform=transform)\n",
    "\n",
    "  # split train set into train and val\n",
    "  train_set, val_set = torch.utils.data.random_split(train_set, [40000, 10000])\n",
    "\n",
    "  # create data loaders\n",
    "  train_loader = torch.utils.data.DataLoader(train_set, batch_size=batch_size, shuffle=True,num_workers=4)\n",
    "  val_loader = torch.utils.data.DataLoader(val_set, batch_size=batch_size, shuffle=True,num_workers=4)\n",
    "  test_loader = torch.utils.data.DataLoader(test_set, batch_size=batch_size, shuffle=True,num_workers=4)\n",
    "\n",
    "  train_loader = [(inputs.to(device), labels.to(device)) for inputs, labels in train_loader]\n",
    "  val_loader = [(inputs.to(device), labels.to(device)) for inputs, labels in val_loader]\n",
    "  test_loader = [(inputs.to(device), labels.to(device)) for inputs, labels in test_loader]\n",
    "\n",
    "\n",
    "  return train_loader, val_loader, test_loader"
   ]
  },
  {
   "cell_type": "code",
   "execution_count": 4,
   "metadata": {
    "id": "tmx55UqDqklc",
    "tags": []
   },
   "outputs": [],
   "source": [
    "class CustomConv2D(nn.Module):\n",
    "    def __init__(self, in_channels, out_channels, kernel_size, stride=1, padding=0):\n",
    "        super(CustomConv2D, self).__init__()\n",
    "        self.in_channels = in_channels\n",
    "        self.out_channels = out_channels\n",
    "        self.kernel_size = kernel_size\n",
    "        self.stride = stride\n",
    "        self.padding = padding\n",
    "        \n",
    "        # Initialize weights and biases\n",
    "        self.weight = nn.Parameter(torch.randn(out_channels, in_channels, kernel_size, kernel_size))\n",
    "        self.bias = nn.Parameter(torch.randn(out_channels))\n",
    "\n",
    "    def forward(self, x):\n",
    "        # Add padding if necessary\n",
    "        if self.padding > 0:\n",
    "            x = torch.nn.functional.pad(x, (self.padding, self.padding, self.padding, self.padding))\n",
    "        \n",
    "        batch_size, in_channels, input_height, input_width = x.size()\n",
    "        \n",
    "        # Calculate the dimensions of the output tensor\n",
    "        output_height = (input_height - self.kernel_size) // self.stride + 1\n",
    "        output_width = (input_width - self.kernel_size) // self.stride + 1\n",
    "        \n",
    "        # Initialize the output tensor\n",
    "        output = torch.zeros((batch_size, self.out_channels, output_height, output_width))\n",
    "        \n",
    "        for b in range(batch_size):\n",
    "            for o in range(self.out_channels):\n",
    "                for i in range(0, output_height * self.stride, self.stride):\n",
    "                    for j in range(0, output_width * self.stride, self.stride):\n",
    "                        region = x[b, :, i:i+self.kernel_size, j:j+self.kernel_size]\n",
    "                        output[b, o, i//self.stride, j//self.stride] = torch.sum(region * self.weight[o]) + self.bias[o]\n",
    "        \n",
    "        return output\n",
    "\n",
    "\n",
    "\n",
    "\n",
    "class AddEpsilon(nn.Module):\n",
    "    def __init__(self, epsilon=1e-10): # 1e-10 is smallest possible float in pytorch\n",
    "        super().__init__()\n",
    "        self.epsilon = epsilon\n",
    "\n",
    "    def forward(self, x):\n",
    "        return x + self.epsilon\n",
    "\n",
    "    \n",
    "\n",
    "class Net(nn.Module):\n",
    "    def __init__(self):\n",
    "        super().__init__()\n",
    "        self.conv1 = nn.Conv2d(3, 6, 5)\n",
    "        self.pool = nn.MaxPool2d(2, 2)\n",
    "        self.conv2 = nn.Conv2d(6, 16, 5)\n",
    "        self.fc1 = nn.Linear(16 * 5 * 5, 120)\n",
    "        self.fc2 = nn.Linear(120, 84)\n",
    "        self.fc3 = nn.Linear(84, 10)\n",
    "\n",
    "    def forward(self, x):\n",
    "        x = self.pool(F.relu(self.conv1(x)))\n",
    "        x = self.pool(F.relu(self.conv2(x)))\n",
    "        x = torch.flatten(x, 1) # flatten all dimensions except batch\n",
    "        x = F.relu(self.fc1(x))\n",
    "        x = F.relu(self.fc2(x))\n",
    "        x = self.fc3(x)\n",
    "        return x"
   ]
  },
  {
   "cell_type": "code",
   "execution_count": 5,
   "metadata": {
    "id": "8SDhH-fZrvvu",
    "tags": []
   },
   "outputs": [],
   "source": [
    "def init_train_var(model):\n",
    "  \n",
    "  criterion = nn.CrossEntropyLoss()\n",
    "  optimizer = torch.optim.SGD(model.parameters(), lr=0.005, momentum=0.2 ) # set momentum to 0.2 after trial and error\n",
    "\n",
    "  return criterion, optimizer"
   ]
  },
  {
   "cell_type": "code",
   "execution_count": 6,
   "metadata": {
    "id": "u_lAiVjVreOO",
    "tags": []
   },
   "outputs": [],
   "source": [
    "def test(model_path, test_loader):\n",
    "  # use the provided test loader\n",
    "  # return the test accuracy\n",
    "  model = torch.load(model_path)\n",
    "  model.eval()\n",
    "  with torch.no_grad():\n",
    "    correct = 0\n",
    "    total = 0\n",
    "    for images, labels in test_loader:\n",
    "      outputs = model(images)\n",
    "      _, predicted = torch.max(outputs, 1)\n",
    "      total += labels.size(0)\n",
    "      correct += (predicted == labels).sum().item()\n",
    "    test_acc = correct / total\n",
    "  return test_acc\n"
   ]
  },
  {
   "cell_type": "code",
   "execution_count": 7,
   "metadata": {
    "colab": {
     "base_uri": "https://localhost:8080/"
    },
    "id": "3o5hcTvp38PH",
    "outputId": "68891830-2d92-4bc1-da99-06b772c16b50",
    "tags": []
   },
   "outputs": [
    {
     "name": "stdout",
     "output_type": "stream",
     "text": [
      "Files already downloaded and verified\n",
      "Files already downloaded and verified\n"
     ]
    }
   ],
   "source": [
    "BATCH_SIZE = 1024\n",
    "train_loader, val_loader, test_loader = create_data_loader(batch_size=BATCH_SIZE)\n",
    "\n",
    "\n",
    "model = Net()\n",
    "model = torch.compile(model)\n",
    "model = model.to(device)\n",
    "# model = nn.DataParallel(model)\n",
    "criterion, optimizer = init_train_var(model)\n"
   ]
  },
  {
   "cell_type": "code",
   "execution_count": 8,
   "metadata": {},
   "outputs": [],
   "source": [
    "EPOCH_COUNT = 800"
   ]
  },
  {
   "cell_type": "code",
   "execution_count": 9,
   "metadata": {},
   "outputs": [
    {
     "name": "stdout",
     "output_type": "stream",
     "text": [
      "Epoch 1/800, Train Loss: 92.2147, Train Accuracy: 0.0992\n",
      "Epoch 1/800, Val Loss: 23.0547, Val Accuracy: 0.0994\n",
      "Epoch 2/800, Train Loss: 92.1768, Train Accuracy: 0.0998\n",
      "Epoch 2/800, Val Loss: 23.0457, Val Accuracy: 0.0998\n",
      "Epoch 3/800, Train Loss: 92.1406, Train Accuracy: 0.0996\n",
      "Epoch 3/800, Val Loss: 23.0369, Val Accuracy: 0.0998\n",
      "Epoch 4/800, Train Loss: 92.1048, Train Accuracy: 0.0998\n",
      "Epoch 4/800, Val Loss: 23.0280, Val Accuracy: 0.1005\n",
      "Epoch 5/800, Train Loss: 92.0683, Train Accuracy: 0.1000\n",
      "Epoch 5/800, Val Loss: 23.0188, Val Accuracy: 0.1003\n",
      "Epoch 6/800, Train Loss: 92.0303, Train Accuracy: 0.1003\n",
      "Epoch 6/800, Val Loss: 23.0092, Val Accuracy: 0.1000\n",
      "Epoch 7/800, Train Loss: 91.9903, Train Accuracy: 0.1010\n",
      "Epoch 7/800, Val Loss: 22.9989, Val Accuracy: 0.1005\n",
      "Epoch 8/800, Train Loss: 91.9475, Train Accuracy: 0.1018\n",
      "Epoch 8/800, Val Loss: 22.9878, Val Accuracy: 0.1007\n",
      "Epoch 9/800, Train Loss: 91.9007, Train Accuracy: 0.1036\n",
      "Epoch 9/800, Val Loss: 22.9756, Val Accuracy: 0.1022\n",
      "Epoch 10/800, Train Loss: 91.8486, Train Accuracy: 0.1048\n",
      "Epoch 10/800, Val Loss: 22.9619, Val Accuracy: 0.1043\n",
      "Epoch 11/800, Train Loss: 91.7896, Train Accuracy: 0.1074\n",
      "Epoch 11/800, Val Loss: 22.9462, Val Accuracy: 0.1076\n",
      "Epoch 12/800, Train Loss: 91.7215, Train Accuracy: 0.1096\n",
      "Epoch 12/800, Val Loss: 22.9279, Val Accuracy: 0.1103\n",
      "Epoch 13/800, Train Loss: 91.6414, Train Accuracy: 0.1127\n",
      "Epoch 13/800, Val Loss: 22.9060, Val Accuracy: 0.1127\n",
      "Epoch 14/800, Train Loss: 91.5452, Train Accuracy: 0.1171\n",
      "Epoch 14/800, Val Loss: 22.8795, Val Accuracy: 0.1188\n",
      "Epoch 15/800, Train Loss: 91.4281, Train Accuracy: 0.1240\n",
      "Epoch 15/800, Val Loss: 22.8471, Val Accuracy: 0.1261\n",
      "Epoch 16/800, Train Loss: 91.2832, Train Accuracy: 0.1355\n",
      "Epoch 16/800, Val Loss: 22.8065, Val Accuracy: 0.1402\n",
      "Epoch 17/800, Train Loss: 91.1003, Train Accuracy: 0.1529\n",
      "Epoch 17/800, Val Loss: 22.7548, Val Accuracy: 0.1584\n",
      "Epoch 18/800, Train Loss: 90.8658, Train Accuracy: 0.1721\n",
      "Epoch 18/800, Val Loss: 22.6874, Val Accuracy: 0.1713\n",
      "Epoch 19/800, Train Loss: 90.5591, Train Accuracy: 0.1824\n",
      "Epoch 19/800, Val Loss: 22.5985, Val Accuracy: 0.1797\n",
      "Epoch 20/800, Train Loss: 90.1516, Train Accuracy: 0.1903\n",
      "Epoch 20/800, Val Loss: 22.4800, Val Accuracy: 0.1860\n",
      "Epoch 21/800, Train Loss: 89.6098, Train Accuracy: 0.1976\n",
      "Epoch 21/800, Val Loss: 22.3221, Val Accuracy: 0.1955\n",
      "Epoch 22/800, Train Loss: 88.8959, Train Accuracy: 0.2042\n",
      "Epoch 22/800, Val Loss: 22.1162, Val Accuracy: 0.2033\n",
      "Epoch 23/800, Train Loss: 87.9896, Train Accuracy: 0.2108\n",
      "Epoch 23/800, Val Loss: 21.8620, Val Accuracy: 0.2106\n",
      "Epoch 24/800, Train Loss: 86.9187, Train Accuracy: 0.2209\n",
      "Epoch 24/800, Val Loss: 21.5735, Val Accuracy: 0.2165\n",
      "Epoch 25/800, Train Loss: 85.7548, Train Accuracy: 0.2312\n",
      "Epoch 25/800, Val Loss: 21.2716, Val Accuracy: 0.2244\n",
      "Epoch 26/800, Train Loss: 84.5572, Train Accuracy: 0.2422\n",
      "Epoch 26/800, Val Loss: 20.9668, Val Accuracy: 0.2335\n",
      "Epoch 27/800, Train Loss: 83.3444, Train Accuracy: 0.2529\n",
      "Epoch 27/800, Val Loss: 20.6662, Val Accuracy: 0.2484\n",
      "Epoch 28/800, Train Loss: 82.1602, Train Accuracy: 0.2633\n",
      "Epoch 28/800, Val Loss: 20.3848, Val Accuracy: 0.2614\n",
      "Epoch 29/800, Train Loss: 81.0643, Train Accuracy: 0.2719\n",
      "Epoch 29/800, Val Loss: 20.1342, Val Accuracy: 0.2706\n",
      "Epoch 30/800, Train Loss: 80.0890, Train Accuracy: 0.2794\n",
      "Epoch 30/800, Val Loss: 19.9165, Val Accuracy: 0.2786\n",
      "Epoch 31/800, Train Loss: 79.2337, Train Accuracy: 0.2861\n",
      "Epoch 31/800, Val Loss: 19.7287, Val Accuracy: 0.2876\n",
      "Epoch 32/800, Train Loss: 78.4903, Train Accuracy: 0.2921\n",
      "Epoch 32/800, Val Loss: 19.5679, Val Accuracy: 0.2929\n",
      "Epoch 33/800, Train Loss: 77.8470, Train Accuracy: 0.2970\n",
      "Epoch 33/800, Val Loss: 19.4293, Val Accuracy: 0.2971\n",
      "Epoch 34/800, Train Loss: 77.2822, Train Accuracy: 0.3010\n",
      "Epoch 34/800, Val Loss: 19.3077, Val Accuracy: 0.3030\n",
      "Epoch 35/800, Train Loss: 76.7757, Train Accuracy: 0.3057\n",
      "Epoch 35/800, Val Loss: 19.1978, Val Accuracy: 0.3078\n",
      "Epoch 36/800, Train Loss: 76.3118, Train Accuracy: 0.3094\n",
      "Epoch 36/800, Val Loss: 19.0967, Val Accuracy: 0.3124\n",
      "Epoch 37/800, Train Loss: 75.8777, Train Accuracy: 0.3130\n",
      "Epoch 37/800, Val Loss: 19.0010, Val Accuracy: 0.3170\n",
      "Epoch 38/800, Train Loss: 75.4625, Train Accuracy: 0.3163\n",
      "Epoch 38/800, Val Loss: 18.9100, Val Accuracy: 0.3212\n",
      "Epoch 39/800, Train Loss: 75.0591, Train Accuracy: 0.3204\n",
      "Epoch 39/800, Val Loss: 18.8193, Val Accuracy: 0.3258\n",
      "Epoch 40/800, Train Loss: 74.6637, Train Accuracy: 0.3243\n",
      "Epoch 40/800, Val Loss: 18.7297, Val Accuracy: 0.3291\n",
      "Epoch 41/800, Train Loss: 74.2723, Train Accuracy: 0.3278\n",
      "Epoch 41/800, Val Loss: 18.6442, Val Accuracy: 0.3313\n"
     ]
    },
    {
     "ename": "KeyboardInterrupt",
     "evalue": "",
     "output_type": "error",
     "traceback": [
      "\u001b[0;31m---------------------------------------------------------------------------\u001b[0m",
      "\u001b[0;31mKeyboardInterrupt\u001b[0m                         Traceback (most recent call last)",
      "File \u001b[0;32m<timed exec>:23\u001b[0m\n",
      "File \u001b[0;32m~/anaconda3/envs/mlenv/lib/python3.11/site-packages/torch/_tensor.py:522\u001b[0m, in \u001b[0;36mTensor.backward\u001b[0;34m(self, gradient, retain_graph, create_graph, inputs)\u001b[0m\n\u001b[1;32m    512\u001b[0m \u001b[38;5;28;01mif\u001b[39;00m has_torch_function_unary(\u001b[38;5;28mself\u001b[39m):\n\u001b[1;32m    513\u001b[0m     \u001b[38;5;28;01mreturn\u001b[39;00m handle_torch_function(\n\u001b[1;32m    514\u001b[0m         Tensor\u001b[38;5;241m.\u001b[39mbackward,\n\u001b[1;32m    515\u001b[0m         (\u001b[38;5;28mself\u001b[39m,),\n\u001b[0;32m   (...)\u001b[0m\n\u001b[1;32m    520\u001b[0m         inputs\u001b[38;5;241m=\u001b[39minputs,\n\u001b[1;32m    521\u001b[0m     )\n\u001b[0;32m--> 522\u001b[0m torch\u001b[38;5;241m.\u001b[39mautograd\u001b[38;5;241m.\u001b[39mbackward(\n\u001b[1;32m    523\u001b[0m     \u001b[38;5;28mself\u001b[39m, gradient, retain_graph, create_graph, inputs\u001b[38;5;241m=\u001b[39minputs\n\u001b[1;32m    524\u001b[0m )\n",
      "File \u001b[0;32m~/anaconda3/envs/mlenv/lib/python3.11/site-packages/torch/autograd/__init__.py:266\u001b[0m, in \u001b[0;36mbackward\u001b[0;34m(tensors, grad_tensors, retain_graph, create_graph, grad_variables, inputs)\u001b[0m\n\u001b[1;32m    261\u001b[0m     retain_graph \u001b[38;5;241m=\u001b[39m create_graph\n\u001b[1;32m    263\u001b[0m \u001b[38;5;66;03m# The reason we repeat the same comment below is that\u001b[39;00m\n\u001b[1;32m    264\u001b[0m \u001b[38;5;66;03m# some Python versions print out the first line of a multi-line function\u001b[39;00m\n\u001b[1;32m    265\u001b[0m \u001b[38;5;66;03m# calls in the traceback and some print out the last line\u001b[39;00m\n\u001b[0;32m--> 266\u001b[0m Variable\u001b[38;5;241m.\u001b[39m_execution_engine\u001b[38;5;241m.\u001b[39mrun_backward(  \u001b[38;5;66;03m# Calls into the C++ engine to run the backward pass\u001b[39;00m\n\u001b[1;32m    267\u001b[0m     tensors,\n\u001b[1;32m    268\u001b[0m     grad_tensors_,\n\u001b[1;32m    269\u001b[0m     retain_graph,\n\u001b[1;32m    270\u001b[0m     create_graph,\n\u001b[1;32m    271\u001b[0m     inputs,\n\u001b[1;32m    272\u001b[0m     allow_unreachable\u001b[38;5;241m=\u001b[39m\u001b[38;5;28;01mTrue\u001b[39;00m,\n\u001b[1;32m    273\u001b[0m     accumulate_grad\u001b[38;5;241m=\u001b[39m\u001b[38;5;28;01mTrue\u001b[39;00m,\n\u001b[1;32m    274\u001b[0m )\n",
      "File \u001b[0;32m~/anaconda3/envs/mlenv/lib/python3.11/site-packages/torch/autograd/function.py:289\u001b[0m, in \u001b[0;36mBackwardCFunction.apply\u001b[0;34m(self, *args)\u001b[0m\n\u001b[1;32m    283\u001b[0m     \u001b[38;5;28;01mraise\u001b[39;00m \u001b[38;5;167;01mRuntimeError\u001b[39;00m(\n\u001b[1;32m    284\u001b[0m         \u001b[38;5;124m\"\u001b[39m\u001b[38;5;124mImplementing both \u001b[39m\u001b[38;5;124m'\u001b[39m\u001b[38;5;124mbackward\u001b[39m\u001b[38;5;124m'\u001b[39m\u001b[38;5;124m and \u001b[39m\u001b[38;5;124m'\u001b[39m\u001b[38;5;124mvjp\u001b[39m\u001b[38;5;124m'\u001b[39m\u001b[38;5;124m for a custom \u001b[39m\u001b[38;5;124m\"\u001b[39m\n\u001b[1;32m    285\u001b[0m         \u001b[38;5;124m\"\u001b[39m\u001b[38;5;124mFunction is not allowed. You should only implement one \u001b[39m\u001b[38;5;124m\"\u001b[39m\n\u001b[1;32m    286\u001b[0m         \u001b[38;5;124m\"\u001b[39m\u001b[38;5;124mof them.\u001b[39m\u001b[38;5;124m\"\u001b[39m\n\u001b[1;32m    287\u001b[0m     )\n\u001b[1;32m    288\u001b[0m user_fn \u001b[38;5;241m=\u001b[39m vjp_fn \u001b[38;5;28;01mif\u001b[39;00m vjp_fn \u001b[38;5;129;01mis\u001b[39;00m \u001b[38;5;129;01mnot\u001b[39;00m Function\u001b[38;5;241m.\u001b[39mvjp \u001b[38;5;28;01melse\u001b[39;00m backward_fn\n\u001b[0;32m--> 289\u001b[0m \u001b[38;5;28;01mreturn\u001b[39;00m user_fn(\u001b[38;5;28mself\u001b[39m, \u001b[38;5;241m*\u001b[39margs)\n",
      "File \u001b[0;32m~/anaconda3/envs/mlenv/lib/python3.11/site-packages/torch/_functorch/_aot_autograd/jit_compile_runtime_wrappers.py:754\u001b[0m, in \u001b[0;36maot_dispatch_autograd.<locals>.CompiledFunction.backward\u001b[0;34m(ctx, *flat_args)\u001b[0m\n\u001b[1;32m    752\u001b[0m     out \u001b[38;5;241m=\u001b[39m CompiledFunctionBackward\u001b[38;5;241m.\u001b[39mapply(\u001b[38;5;241m*\u001b[39mall_args)\n\u001b[1;32m    753\u001b[0m \u001b[38;5;28;01melse\u001b[39;00m:\n\u001b[0;32m--> 754\u001b[0m     out \u001b[38;5;241m=\u001b[39m call_compiled_backward()\n\u001b[1;32m    756\u001b[0m \u001b[38;5;66;03m# TODO: figure out how to refactor the backward properly so I can use aot_dispatch_subclass_wrapper() here.\u001b[39;00m\n\u001b[1;32m    757\u001b[0m \u001b[38;5;28;01mif\u001b[39;00m CompiledFunction\u001b[38;5;241m.\u001b[39mmaybe_subclass_metadata \u001b[38;5;129;01mis\u001b[39;00m \u001b[38;5;129;01mnot\u001b[39;00m \u001b[38;5;28;01mNone\u001b[39;00m:\n",
      "File \u001b[0;32m~/anaconda3/envs/mlenv/lib/python3.11/site-packages/torch/_functorch/_aot_autograd/jit_compile_runtime_wrappers.py:706\u001b[0m, in \u001b[0;36maot_dispatch_autograd.<locals>.CompiledFunction.backward.<locals>.call_compiled_backward\u001b[0;34m()\u001b[0m\n\u001b[1;32m    699\u001b[0m     \u001b[38;5;28;01mwith\u001b[39;00m tracing(saved_context), context(), track_graph_compiling(\n\u001b[1;32m    700\u001b[0m         aot_config, \u001b[38;5;124m\"\u001b[39m\u001b[38;5;124mbackward\u001b[39m\u001b[38;5;124m\"\u001b[39m\n\u001b[1;32m    701\u001b[0m     ):\n\u001b[1;32m    702\u001b[0m         CompiledFunction\u001b[38;5;241m.\u001b[39mcompiled_bw \u001b[38;5;241m=\u001b[39m aot_config\u001b[38;5;241m.\u001b[39mbw_compiler(\n\u001b[1;32m    703\u001b[0m             bw_module, placeholder_list\n\u001b[1;32m    704\u001b[0m         )\n\u001b[0;32m--> 706\u001b[0m out \u001b[38;5;241m=\u001b[39m call_func_at_runtime_with_args(\n\u001b[1;32m    707\u001b[0m     CompiledFunction\u001b[38;5;241m.\u001b[39mcompiled_bw,\n\u001b[1;32m    708\u001b[0m     all_args,\n\u001b[1;32m    709\u001b[0m     steal_args\u001b[38;5;241m=\u001b[39m\u001b[38;5;28;01mTrue\u001b[39;00m,\n\u001b[1;32m    710\u001b[0m     disable_amp\u001b[38;5;241m=\u001b[39mdisable_amp,\n\u001b[1;32m    711\u001b[0m )\n\u001b[1;32m    713\u001b[0m out \u001b[38;5;241m=\u001b[39m functionalized_rng_runtime_epilogue(\n\u001b[1;32m    714\u001b[0m     CompiledFunction\u001b[38;5;241m.\u001b[39mmetadata, out\n\u001b[1;32m    715\u001b[0m )\n\u001b[1;32m    716\u001b[0m \u001b[38;5;28;01mreturn\u001b[39;00m \u001b[38;5;28mtuple\u001b[39m(out)\n",
      "File \u001b[0;32m~/anaconda3/envs/mlenv/lib/python3.11/site-packages/torch/_functorch/_aot_autograd/utils.py:105\u001b[0m, in \u001b[0;36mcall_func_at_runtime_with_args\u001b[0;34m(f, args, steal_args, disable_amp)\u001b[0m\n\u001b[1;32m    103\u001b[0m \u001b[38;5;28;01mwith\u001b[39;00m context():\n\u001b[1;32m    104\u001b[0m     \u001b[38;5;28;01mif\u001b[39;00m \u001b[38;5;28mhasattr\u001b[39m(f, \u001b[38;5;124m\"\u001b[39m\u001b[38;5;124m_boxed_call\u001b[39m\u001b[38;5;124m\"\u001b[39m):\n\u001b[0;32m--> 105\u001b[0m         out \u001b[38;5;241m=\u001b[39m normalize_as_list(f(args))\n\u001b[1;32m    106\u001b[0m     \u001b[38;5;28;01melse\u001b[39;00m:\n\u001b[1;32m    107\u001b[0m         \u001b[38;5;66;03m# TODO: Please remove soon\u001b[39;00m\n\u001b[1;32m    108\u001b[0m         \u001b[38;5;66;03m# https://github.com/pytorch/pytorch/pull/83137#issuecomment-1211320670\u001b[39;00m\n\u001b[1;32m    109\u001b[0m         warnings\u001b[38;5;241m.\u001b[39mwarn(\n\u001b[1;32m    110\u001b[0m             \u001b[38;5;124m\"\u001b[39m\u001b[38;5;124mYour compiler for AOTAutograd is returning a function that doesn\u001b[39m\u001b[38;5;124m'\u001b[39m\u001b[38;5;124mt take boxed arguments. \u001b[39m\u001b[38;5;124m\"\u001b[39m\n\u001b[1;32m    111\u001b[0m             \u001b[38;5;124m\"\u001b[39m\u001b[38;5;124mPlease wrap it with functorch.compile.make_boxed_func or handle the boxed arguments yourself. \u001b[39m\u001b[38;5;124m\"\u001b[39m\n\u001b[1;32m    112\u001b[0m             \u001b[38;5;124m\"\u001b[39m\u001b[38;5;124mSee https://github.com/pytorch/pytorch/pull/83137#issuecomment-1211320670 for rationale.\u001b[39m\u001b[38;5;124m\"\u001b[39m\n\u001b[1;32m    113\u001b[0m         )\n",
      "File \u001b[0;32m~/anaconda3/envs/mlenv/lib/python3.11/site-packages/torch/_dynamo/eval_frame.py:489\u001b[0m, in \u001b[0;36m_TorchDynamoContext.__call__.<locals>._fn\u001b[0;34m(*args, **kwargs)\u001b[0m\n\u001b[1;32m    487\u001b[0m     dynamo_config_ctx\u001b[38;5;241m.\u001b[39m\u001b[38;5;21m__enter__\u001b[39m()\n\u001b[1;32m    488\u001b[0m \u001b[38;5;28;01mtry\u001b[39;00m:\n\u001b[0;32m--> 489\u001b[0m     \u001b[38;5;28;01mreturn\u001b[39;00m fn(\u001b[38;5;241m*\u001b[39margs, \u001b[38;5;241m*\u001b[39m\u001b[38;5;241m*\u001b[39mkwargs)\n\u001b[1;32m    490\u001b[0m \u001b[38;5;28;01mfinally\u001b[39;00m:\n\u001b[1;32m    491\u001b[0m     set_eval_frame(prior)\n",
      "File \u001b[0;32m~/anaconda3/envs/mlenv/lib/python3.11/site-packages/torch/_dynamo/external_utils.py:17\u001b[0m, in \u001b[0;36mwrap_inline.<locals>.inner\u001b[0;34m(*args, **kwargs)\u001b[0m\n\u001b[1;32m     15\u001b[0m \u001b[38;5;129m@functools\u001b[39m\u001b[38;5;241m.\u001b[39mwraps(fn)\n\u001b[1;32m     16\u001b[0m \u001b[38;5;28;01mdef\u001b[39;00m \u001b[38;5;21minner\u001b[39m(\u001b[38;5;241m*\u001b[39margs, \u001b[38;5;241m*\u001b[39m\u001b[38;5;241m*\u001b[39mkwargs):\n\u001b[0;32m---> 17\u001b[0m     \u001b[38;5;28;01mreturn\u001b[39;00m fn(\u001b[38;5;241m*\u001b[39margs, \u001b[38;5;241m*\u001b[39m\u001b[38;5;241m*\u001b[39mkwargs)\n",
      "File \u001b[0;32m~/anaconda3/envs/mlenv/lib/python3.11/site-packages/torch/_inductor/codecache.py:864\u001b[0m, in \u001b[0;36mCompiledFxGraph.__call__\u001b[0;34m(self, inputs)\u001b[0m\n\u001b[1;32m    863\u001b[0m \u001b[38;5;28;01mdef\u001b[39;00m \u001b[38;5;21m__call__\u001b[39m(\u001b[38;5;28mself\u001b[39m, inputs: List[Any]) \u001b[38;5;241m-\u001b[39m\u001b[38;5;241m>\u001b[39m Any:\n\u001b[0;32m--> 864\u001b[0m     \u001b[38;5;28;01mreturn\u001b[39;00m \u001b[38;5;28mself\u001b[39m\u001b[38;5;241m.\u001b[39mget_current_callable()(inputs)\n",
      "File \u001b[0;32m~/anaconda3/envs/mlenv/lib/python3.11/site-packages/torch/_inductor/codecache.py:892\u001b[0m, in \u001b[0;36m_run_from_cache\u001b[0;34m(compiled_graph, inputs)\u001b[0m\n\u001b[1;32m    884\u001b[0m     \u001b[38;5;28;01massert\u001b[39;00m compiled_graph\u001b[38;5;241m.\u001b[39martifact_path\n\u001b[1;32m    885\u001b[0m     compiled_graph\u001b[38;5;241m.\u001b[39mcompiled_artifact \u001b[38;5;241m=\u001b[39m PyCodeCache\u001b[38;5;241m.\u001b[39mload_by_key_path(\n\u001b[1;32m    886\u001b[0m         compiled_graph\u001b[38;5;241m.\u001b[39mcache_key,\n\u001b[1;32m    887\u001b[0m         compiled_graph\u001b[38;5;241m.\u001b[39martifact_path,\n\u001b[1;32m    888\u001b[0m         compiled_graph\u001b[38;5;241m.\u001b[39mcache_linemap,\n\u001b[1;32m    889\u001b[0m         compiled_graph\u001b[38;5;241m.\u001b[39mconstants,\n\u001b[1;32m    890\u001b[0m     )\u001b[38;5;241m.\u001b[39mcall\n\u001b[0;32m--> 892\u001b[0m \u001b[38;5;28;01mreturn\u001b[39;00m compiled_graph\u001b[38;5;241m.\u001b[39mcompiled_artifact(inputs)\n",
      "File \u001b[0;32m/tmp/torchinductor_parsa/o5/co5sietyr3gswwrvetsvnllj62u54vherkcfkwzluo2uf7xsa47y.py:295\u001b[0m, in \u001b[0;36mcall\u001b[0;34m(args)\u001b[0m\n\u001b[1;32m    293\u001b[0m \u001b[38;5;28;01mdel\u001b[39;00m relu_1\n\u001b[1;32m    294\u001b[0m \u001b[38;5;66;03m# Source Nodes: [], Original ATen: [aten.convolution_backward, aten.threshold_backward]\u001b[39;00m\n\u001b[0;32m--> 295\u001b[0m buf14 \u001b[38;5;241m=\u001b[39m aten\u001b[38;5;241m.\u001b[39mconvolution_backward(buf13, getitem, primals_3, [\u001b[38;5;241m16\u001b[39m], [\u001b[38;5;241m1\u001b[39m, \u001b[38;5;241m1\u001b[39m], [\u001b[38;5;241m0\u001b[39m, \u001b[38;5;241m0\u001b[39m], [\u001b[38;5;241m1\u001b[39m, \u001b[38;5;241m1\u001b[39m], \u001b[38;5;28;01mFalse\u001b[39;00m, [\u001b[38;5;241m0\u001b[39m, \u001b[38;5;241m0\u001b[39m], \u001b[38;5;241m1\u001b[39m, [\u001b[38;5;28;01mTrue\u001b[39;00m, \u001b[38;5;28;01mTrue\u001b[39;00m, \u001b[38;5;28;01mTrue\u001b[39;00m])\n\u001b[1;32m    296\u001b[0m \u001b[38;5;28;01mdel\u001b[39;00m buf13\n\u001b[1;32m    297\u001b[0m \u001b[38;5;28;01mdel\u001b[39;00m getitem\n",
      "File \u001b[0;32m~/anaconda3/envs/mlenv/lib/python3.11/site-packages/torch/_ops.py:755\u001b[0m, in \u001b[0;36mOpOverloadPacket.__call__\u001b[0;34m(self, *args, **kwargs)\u001b[0m\n\u001b[1;32m    750\u001b[0m \u001b[38;5;28;01mdef\u001b[39;00m \u001b[38;5;21m__call__\u001b[39m(\u001b[38;5;28mself\u001b[39m, \u001b[38;5;241m*\u001b[39margs, \u001b[38;5;241m*\u001b[39m\u001b[38;5;241m*\u001b[39mkwargs):\n\u001b[1;32m    751\u001b[0m     \u001b[38;5;66;03m# overloading __call__ to ensure torch.ops.foo.bar()\u001b[39;00m\n\u001b[1;32m    752\u001b[0m     \u001b[38;5;66;03m# is still callable from JIT\u001b[39;00m\n\u001b[1;32m    753\u001b[0m     \u001b[38;5;66;03m# We save the function ptr as the `op` attribute on\u001b[39;00m\n\u001b[1;32m    754\u001b[0m     \u001b[38;5;66;03m# OpOverloadPacket to access it here.\u001b[39;00m\n\u001b[0;32m--> 755\u001b[0m     \u001b[38;5;28;01mreturn\u001b[39;00m \u001b[38;5;28mself\u001b[39m\u001b[38;5;241m.\u001b[39m_op(\u001b[38;5;241m*\u001b[39margs, \u001b[38;5;241m*\u001b[39m\u001b[38;5;241m*\u001b[39m(kwargs \u001b[38;5;129;01mor\u001b[39;00m {}))\n",
      "\u001b[0;31mKeyboardInterrupt\u001b[0m: "
     ]
    }
   ],
   "source": [
    "%%time\n",
    "\n",
    "train_loss_list = []\n",
    "train_acc_list = []\n",
    "val_loss_list = []\n",
    "val_acc_list = []\n",
    "\n",
    "for epoch in range(EPOCH_COUNT):\n",
    "    model.train()\n",
    "    train_loss = 0\n",
    "    train_correct = 0\n",
    "    # for each batch\n",
    "    for i, (inputs, labels) in enumerate(train_loader):\n",
    "        # count the number of weights with very small magnitute < 1e-3\n",
    "        nans_count = 0\n",
    "        for param in model.parameters():\n",
    "            if param.grad is not None:\n",
    "                nans_count += torch.sum(torch.isnan(param.grad)).item()\n",
    "        \n",
    "        # zero the parameter gradients\n",
    "        optimizer.zero_grad()\n",
    "        # forward + backward + optimize\n",
    "        outputs = model(inputs)\n",
    "        loss = criterion(outputs, labels)\n",
    "        loss.backward()\n",
    "        optimizer.step()\n",
    "        # print all gradients of the first synapse\n",
    "        # print(f\"synapse grads : {model.classifier[-1].synapses[0][0].main[0].grad}\")\n",
    "        # print(f\"weights of first layer {model.classifier[-1].synapses[0][0]}\")\n",
    "        train_loss += loss.item()\n",
    "        _, predicted = torch.max(outputs, 1)\n",
    "        train_correct += (predicted == labels).sum().item()\n",
    "\n",
    "\n",
    "    print(f'Epoch {epoch+1}/{EPOCH_COUNT}, Train Loss: {train_loss:.4f}, Train Accuracy: {train_correct/40000:.4f}')\n",
    "    train_loss_list.append(train_loss)\n",
    "    train_acc_list.append(train_correct/40000)\n",
    "\n",
    "    # validate\n",
    "    model.eval()\n",
    "    val_loss = 0\n",
    "    val_correct = 0\n",
    "    with torch.no_grad():\n",
    "        for i, (inputs, labels) in enumerate(val_loader):\n",
    "            outputs = model(inputs)\n",
    "            loss = criterion(outputs, labels)\n",
    "            val_loss += loss.item()\n",
    "            _, predicted = torch.max(outputs, 1)\n",
    "            val_correct += (predicted == labels).sum().item()\n",
    "    val_acc = val_correct/10000\n",
    "    print(f'Epoch {epoch+1}/{EPOCH_COUNT}, Val Loss: {val_loss:.4f}, Val Accuracy: {val_acc:.4f}')\n",
    "    val_loss_list.append(val_loss)\n",
    "    val_acc_list.append(val_acc)\n",
    "    \n",
    "\n"
   ]
  },
  {
   "cell_type": "code",
   "execution_count": null,
   "metadata": {},
   "outputs": [
    {
     "data": {
      "image/png": "[encoded data removed]",
      "text/plain": [
       "<Figure size 1000x500 with 2 Axes>"
      ]
     },
     "metadata": {},
     "output_type": "display_data"
    }
   ],
   "source": [
    "# plot the loss and accuracy curves\n",
    "plt.figure(figsize=(10, 5))\n",
    "plt.subplot(1, 2, 1)\n",
    "plt.plot(train_loss_list, label='train')\n",
    "plt.plot(val_loss_list, label='val')\n",
    "plt.title('Loss')\n",
    "plt.legend()\n",
    "\n",
    "plt.subplot(1, 2, 2)\n",
    "plt.plot(train_acc_list, label='train')\n",
    "plt.plot(val_acc_list, label='val')\n",
    "plt.title('Accuracy')\n",
    "plt.legend()\n",
    "\n",
    "\n",
    "# save plot to storage\n",
    "plt.savefig(f\"experiment_{EXPERIMENT_ID}_plot.png\")\n",
    "\n",
    "plt.show()\n",
    "\n",
    "# save model to storage\n",
    "torch.save(model, f\"experiment_{EXPERIMENT_ID}_model.pth\")"
   ]
  },
  {
   "cell_type": "code",
   "execution_count": null,
   "metadata": {
    "colab": {
     "base_uri": "https://localhost:8080/"
    },
    "id": "WdjnpYhDTg3b",
    "outputId": "34b4ddf7-64d2-41d9-911a-05663670f68d"
   },
   "outputs": [
    {
     "ename": "AttributeError",
     "evalue": "'Linear' object has no attribute 'synapses'",
     "output_type": "error",
     "traceback": [
      "\u001b[0;31m---------------------------------------------------------------------------\u001b[0m",
      "\u001b[0;31mAttributeError\u001b[0m                            Traceback (most recent call last)",
      "Cell \u001b[0;32mIn[11], line 6\u001b[0m\n\u001b[1;32m      4\u001b[0m \u001b[38;5;28;01mfor\u001b[39;00m i \u001b[38;5;129;01min\u001b[39;00m \u001b[38;5;28mrange\u001b[39m(quasi_poly_layer\u001b[38;5;241m.\u001b[39mout_features):\n\u001b[1;32m      5\u001b[0m     \u001b[38;5;28;01mfor\u001b[39;00m j \u001b[38;5;129;01min\u001b[39;00m \u001b[38;5;28mrange\u001b[39m(quasi_poly_layer\u001b[38;5;241m.\u001b[39min_features):\n\u001b[0;32m----> 6\u001b[0m         \u001b[38;5;28mprint\u001b[39m(\u001b[38;5;124mf\u001b[39m\u001b[38;5;124m'\u001b[39m\u001b[38;5;124mQuasiPolySynapse \u001b[39m\u001b[38;5;132;01m{\u001b[39;00mi\u001b[38;5;132;01m}\u001b[39;00m\u001b[38;5;124m \u001b[39m\u001b[38;5;132;01m{\u001b[39;00mj\u001b[38;5;132;01m}\u001b[39;00m\u001b[38;5;124m power: \u001b[39m\u001b[38;5;132;01m{\u001b[39;00mquasi_poly_layer\u001b[38;5;241m.\u001b[39msynapses[i][j]\u001b[38;5;241m.\u001b[39mpower\u001b[38;5;241m.\u001b[39mitem()\u001b[38;5;132;01m}\u001b[39;00m\u001b[38;5;124m'\u001b[39m)\n\u001b[1;32m      7\u001b[0m         \u001b[38;5;28mprint\u001b[39m(\u001b[38;5;124mf\u001b[39m\u001b[38;5;124m'\u001b[39m\u001b[38;5;124mQuasiPolySynapse \u001b[39m\u001b[38;5;132;01m{\u001b[39;00mi\u001b[38;5;132;01m}\u001b[39;00m\u001b[38;5;124m \u001b[39m\u001b[38;5;132;01m{\u001b[39;00mj\u001b[38;5;132;01m}\u001b[39;00m\u001b[38;5;124m term weights: \u001b[39m\u001b[38;5;132;01m{\u001b[39;00mquasi_poly_layer\u001b[38;5;241m.\u001b[39msynapses[i][j]\u001b[38;5;241m.\u001b[39mterm_weights\u001b[38;5;241m.\u001b[39mdata\u001b[38;5;132;01m}\u001b[39;00m\u001b[38;5;124m'\u001b[39m)\n",
      "File \u001b[0;32m~/anaconda3/envs/mlenv/lib/python3.11/site-packages/torch/nn/modules/module.py:1688\u001b[0m, in \u001b[0;36mModule.__getattr__\u001b[0;34m(self, name)\u001b[0m\n\u001b[1;32m   1686\u001b[0m     \u001b[38;5;28;01mif\u001b[39;00m name \u001b[38;5;129;01min\u001b[39;00m modules:\n\u001b[1;32m   1687\u001b[0m         \u001b[38;5;28;01mreturn\u001b[39;00m modules[name]\n\u001b[0;32m-> 1688\u001b[0m \u001b[38;5;28;01mraise\u001b[39;00m \u001b[38;5;167;01mAttributeError\u001b[39;00m(\u001b[38;5;124mf\u001b[39m\u001b[38;5;124m\"\u001b[39m\u001b[38;5;124m'\u001b[39m\u001b[38;5;132;01m{\u001b[39;00m\u001b[38;5;28mtype\u001b[39m(\u001b[38;5;28mself\u001b[39m)\u001b[38;5;241m.\u001b[39m\u001b[38;5;18m__name__\u001b[39m\u001b[38;5;132;01m}\u001b[39;00m\u001b[38;5;124m'\u001b[39m\u001b[38;5;124m object has no attribute \u001b[39m\u001b[38;5;124m'\u001b[39m\u001b[38;5;132;01m{\u001b[39;00mname\u001b[38;5;132;01m}\u001b[39;00m\u001b[38;5;124m'\u001b[39m\u001b[38;5;124m\"\u001b[39m)\n",
      "\u001b[0;31mAttributeError\u001b[0m: 'Linear' object has no attribute 'synapses'"
     ]
    }
   ],
   "source": [
    "# print weights and powers of quasi poly layer\n",
    "\n",
    "quasi_poly_layer = model.classifier[-1]\n",
    "for i in range(quasi_poly_layer.out_features):\n",
    "    for j in range(quasi_poly_layer.in_features):\n",
    "        print(f'QuasiPolySynapse {i} {j} power: {quasi_poly_layer.synapses[i][j].power.item()}')\n",
    "        print(f'QuasiPolySynapse {i} {j} term weights: {quasi_poly_layer.synapses[i][j].term_weights.data}')\n",
    "        \n",
    "\n"
   ]
  }
 ],
 "metadata": {
  "accelerator": "GPU",
  "colab": {
   "gpuType": "T4",
   "provenance": []
  },
  "kernelspec": {
   "display_name": "Python 3 (ipykernel)",
   "language": "python",
   "name": "python3"
  },
  "language_info": {
   "codemirror_mode": {
    "name": "ipython",
    "version": 3
   },
   "file_extension": ".py",
   "mimetype": "text/x-python",
   "name": "python",
   "nbconvert_exporter": "python",
   "pygments_lexer": "ipython3",
   "version": "3.11.7"
  }
 },
 "nbformat": 4,
 "nbformat_minor": 4
}
