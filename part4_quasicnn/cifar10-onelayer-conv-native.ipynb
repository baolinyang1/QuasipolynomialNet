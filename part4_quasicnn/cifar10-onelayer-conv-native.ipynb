{
 "cells": [
  {
   "cell_type": "code",
   "execution_count": 1,
   "metadata": {
    "id": "a7hjABHqp0XL",
    "tags": []
   },
   "outputs": [],
   "source": [
    "\n",
    "import torch\n",
    "import torch.nn as nn\n",
    "import torchvision\n",
    "from torchvision import transforms\n",
    "\n",
    "from torch.nn import functional as F\n",
    "\n",
    "import time\n",
    "import math\n",
    "\n",
    "import matplotlib.pyplot as plt"
   ]
  },
  {
   "cell_type": "code",
   "execution_count": 2,
   "metadata": {
    "tags": []
   },
   "outputs": [
    {
     "data": {
      "text/plain": [
       "<torch._C.Generator at 0x7fe5540fe110>"
      ]
     },
     "execution_count": 2,
     "metadata": {},
     "output_type": "execute_result"
    }
   ],
   "source": [
    "\n",
    "torch.manual_seed(1560)"
   ]
  },
  {
   "cell_type": "code",
   "execution_count": 3,
   "metadata": {
    "id": "keOWHb2z9WMT",
    "tags": []
   },
   "outputs": [
    {
     "name": "stdout",
     "output_type": "stream",
     "text": [
      "2.2.0\n"
     ]
    },
    {
     "data": {
      "text/plain": [
       "device(type='cuda', index=0)"
      ]
     },
     "execution_count": 3,
     "metadata": {},
     "output_type": "execute_result"
    }
   ],
   "source": [
    "device = torch.device('cuda:0' if torch.cuda.is_available() else 'cpu')\n",
    "# device = 'cpu'\n",
    "print(torch.__version__)\n",
    "device\n",
    "\n"
   ]
  },
  {
   "cell_type": "code",
   "execution_count": 4,
   "metadata": {
    "id": "VUlYcV55p9vo",
    "tags": []
   },
   "outputs": [],
   "source": [
    "def create_data_loader(batch_size):\n",
    "  # Split the provided CIFAR-10 train set (50,000 images) into your train and val sets\n",
    "  # Use the first 40,000 images as your train set and the remaining 10,000 images as val set\n",
    "  # Use all 10,000 images in the provided test set as your test set\n",
    "\n",
    "  transform = transforms.Compose([\n",
    "    transforms.ToTensor(),\n",
    "      # This is the mean and the average of the cifar db because we are normalizing it.\n",
    "    transforms.Normalize((0.4914, 0.4822, 0.4465), (0.2470, 0.2435, 0.2616)), \n",
    "  ])\n",
    "\n",
    "  # load cifar\n",
    "  train_set = torchvision.datasets.CIFAR10(root='./data', train=True, download=True, transform=transform)\n",
    "  test_set = torchvision.datasets.CIFAR10(root='./data', train=False, download=True, transform=transform)\n",
    "\n",
    "  # split train set into train and val\n",
    "  train_set, val_set = torch.utils.data.random_split(train_set, [40000, 10000])\n",
    "\n",
    "  # create data loaders\n",
    "  train_loader = torch.utils.data.DataLoader(train_set, batch_size=batch_size, shuffle=True,num_workers=32)\n",
    "  val_loader = torch.utils.data.DataLoader(val_set, batch_size=batch_size, shuffle=True,num_workers=32)\n",
    "  test_loader = torch.utils.data.DataLoader(test_set, batch_size=batch_size, shuffle=True,num_workers=32)\n",
    "\n",
    "  train_loader = [(inputs.to(device), labels.to(device)) for inputs, labels in train_loader]\n",
    "  val_loader = [(inputs.to(device), labels.to(device)) for inputs, labels in val_loader]\n",
    "  test_loader = [(inputs.to(device), labels.to(device)) for inputs, labels in test_loader]\n",
    "\n",
    "\n",
    "  return train_loader, val_loader, test_loader"
   ]
  },
  {
   "cell_type": "code",
   "execution_count": 5,
   "metadata": {
    "id": "tmx55UqDqklc",
    "tags": []
   },
   "outputs": [],
   "source": [
    "class AddEpsilon(nn.Module):\n",
    "    def __init__(self, epsilon=1e-10): # 1e-10 is smallest possible float in pytorch\n",
    "        super().__init__()\n",
    "        self.epsilon = epsilon\n",
    "\n",
    "    def forward(self, x):\n",
    "        return x + self.epsilon\n",
    "\n",
    "    \n",
    "class Net(nn.Module):\n",
    "    def __init__(self):\n",
    "        super().__init__()\n",
    "        self.conv1 = nn.Conv2d(3, 6, 5)\n",
    "        self.pool = nn.MaxPool2d(2, 2)\n",
    "        self.conv2 = nn.Conv2d(6, 16, 5)\n",
    "        self.fc1 = nn.Linear(16 * 5 * 5, 10)\n",
    "\n",
    "    def forward(self, x):\n",
    "        x = self.pool(F.relu(self.conv1(x)))\n",
    "        x = self.pool(F.relu(self.conv2(x)))\n",
    "        x = torch.flatten(x, 1) # flatten all dimensions except batch\n",
    "        x = self.fc1(x)\n",
    "        return x "
   ]
  },
  {
   "cell_type": "code",
   "execution_count": 6,
   "metadata": {
    "id": "8SDhH-fZrvvu",
    "tags": []
   },
   "outputs": [],
   "source": [
    "def init_train_var(model):\n",
    "  \n",
    "  criterion = nn.CrossEntropyLoss()\n",
    "  optimizer = torch.optim.SGD(model.parameters(), lr=0.005)\n",
    "\n",
    "  return criterion, optimizer"
   ]
  },
  {
   "cell_type": "code",
   "execution_count": 7,
   "metadata": {
    "id": "u_lAiVjVreOO",
    "tags": []
   },
   "outputs": [],
   "source": [
    "def test(model_path, test_loader):\n",
    "  # use the provided test loader\n",
    "  # return the test accuracy\n",
    "  model = torch.load(model_path)\n",
    "  model.eval()\n",
    "  with torch.no_grad():\n",
    "    correct = 0\n",
    "    total = 0\n",
    "    for images, labels in test_loader:\n",
    "      outputs = model(images)\n",
    "      _, predicted = torch.max(outputs, 1)\n",
    "      total += labels.size(0)\n",
    "      correct += (predicted == labels).sum().item()\n",
    "    test_acc = correct / total\n",
    "  return test_acc\n"
   ]
  },
  {
   "cell_type": "code",
   "execution_count": 8,
   "metadata": {
    "colab": {
     "base_uri": "https://localhost:8080/"
    },
    "id": "3o5hcTvp38PH",
    "outputId": "68891830-2d92-4bc1-da99-06b772c16b50",
    "tags": []
   },
   "outputs": [
    {
     "name": "stdout",
     "output_type": "stream",
     "text": [
      "Files already downloaded and verified\n",
      "Files already downloaded and verified\n"
     ]
    },
    {
     "name": "stderr",
     "output_type": "stream",
     "text": [
      "/usr/local/anaconda3/lib/python3.11/site-packages/torch/utils/data/dataloader.py:558: UserWarning: This DataLoader will create 32 worker processes in total. Our suggested max number of worker in current system is 20, which is smaller than what this DataLoader is going to create. Please be aware that excessive worker creation might get DataLoader running slow or even freeze, lower the worker number to avoid potential slowness/freeze if necessary.\n",
      "  warnings.warn(_create_warning_msg(\n"
     ]
    }
   ],
   "source": [
    "BATCH_SIZE = 128\n",
    "train_loader, val_loader, test_loader = create_data_loader(batch_size=BATCH_SIZE)\n",
    "\n",
    "\n",
    "model = Net()\n",
    "# model = torch.compile(model)\n",
    "# model = nn.DataParallel(model)\n",
    "model = model.to(device)\n",
    "# model = model.module.to(device)\n",
    "criterion, optimizer = init_train_var(model)\n"
   ]
  },
  {
   "cell_type": "code",
   "execution_count": 9,
   "metadata": {},
   "outputs": [],
   "source": [
    "EPOCH_COUNT = 60"
   ]
  },
  {
   "cell_type": "code",
   "execution_count": 10,
   "metadata": {},
   "outputs": [
    {
     "name": "stdout",
     "output_type": "stream",
     "text": [
      "Epoch 1/60, Train Loss: 685.6687, Train Accuracy: 0.1974\n",
      "Epoch 1/60, Val Loss: 160.4736, Val Accuracy: 0.2807\n",
      "Epoch 2/60, Train Loss: 606.7497, Train Accuracy: 0.3085\n",
      "Epoch 2/60, Val Loss: 147.4292, Val Accuracy: 0.3334\n",
      "Epoch 3/60, Train Loss: 570.0761, Train Accuracy: 0.3527\n",
      "Epoch 3/60, Val Loss: 139.2948, Val Accuracy: 0.3755\n",
      "Epoch 4/60, Train Loss: 537.1277, Train Accuracy: 0.3898\n",
      "Epoch 4/60, Val Loss: 131.3996, Val Accuracy: 0.4074\n",
      "Epoch 5/60, Train Loss: 509.3089, Train Accuracy: 0.4192\n",
      "Epoch 5/60, Val Loss: 125.5725, Val Accuracy: 0.4338\n",
      "Epoch 6/60, Train Loss: 489.9577, Train Accuracy: 0.4394\n",
      "Epoch 6/60, Val Loss: 121.7181, Val Accuracy: 0.4521\n",
      "Epoch 7/60, Train Loss: 476.7833, Train Accuracy: 0.4575\n",
      "Epoch 7/60, Val Loss: 119.1260, Val Accuracy: 0.4631\n",
      "Epoch 8/60, Train Loss: 467.0708, Train Accuracy: 0.4708\n",
      "Epoch 8/60, Val Loss: 117.1836, Val Accuracy: 0.4730\n",
      "Epoch 9/60, Train Loss: 459.0575, Train Accuracy: 0.4814\n",
      "Epoch 9/60, Val Loss: 115.5986, Val Accuracy: 0.4821\n",
      "Epoch 10/60, Train Loss: 451.9690, Train Accuracy: 0.4907\n",
      "Epoch 10/60, Val Loss: 114.2647, Val Accuracy: 0.4853\n",
      "Epoch 11/60, Train Loss: 445.5519, Train Accuracy: 0.4981\n",
      "Epoch 11/60, Val Loss: 113.1501, Val Accuracy: 0.4897\n",
      "Epoch 12/60, Train Loss: 439.7136, Train Accuracy: 0.5062\n",
      "Epoch 12/60, Val Loss: 112.1516, Val Accuracy: 0.4927\n",
      "Epoch 13/60, Train Loss: 434.3751, Train Accuracy: 0.5124\n",
      "Epoch 13/60, Val Loss: 111.2743, Val Accuracy: 0.4974\n",
      "Epoch 14/60, Train Loss: 429.4670, Train Accuracy: 0.5172\n",
      "Epoch 14/60, Val Loss: 110.4826, Val Accuracy: 0.5021\n",
      "Epoch 15/60, Train Loss: 424.9030, Train Accuracy: 0.5221\n",
      "Epoch 15/60, Val Loss: 109.7424, Val Accuracy: 0.5051\n",
      "Epoch 16/60, Train Loss: 420.6409, Train Accuracy: 0.5273\n",
      "Epoch 16/60, Val Loss: 109.0581, Val Accuracy: 0.5100\n",
      "Epoch 17/60, Train Loss: 416.6428, Train Accuracy: 0.5318\n",
      "Epoch 17/60, Val Loss: 108.3981, Val Accuracy: 0.5124\n",
      "Epoch 18/60, Train Loss: 412.8745, Train Accuracy: 0.5362\n",
      "Epoch 18/60, Val Loss: 107.7669, Val Accuracy: 0.5169\n",
      "Epoch 19/60, Train Loss: 409.2958, Train Accuracy: 0.5395\n",
      "Epoch 19/60, Val Loss: 107.1728, Val Accuracy: 0.5190\n",
      "Epoch 20/60, Train Loss: 405.9059, Train Accuracy: 0.5429\n",
      "Epoch 20/60, Val Loss: 106.5801, Val Accuracy: 0.5221\n",
      "Epoch 21/60, Train Loss: 402.7020, Train Accuracy: 0.5462\n",
      "Epoch 21/60, Val Loss: 105.9958, Val Accuracy: 0.5259\n",
      "Epoch 22/60, Train Loss: 399.6697, Train Accuracy: 0.5499\n",
      "Epoch 22/60, Val Loss: 105.4205, Val Accuracy: 0.5284\n",
      "Epoch 23/60, Train Loss: 396.7989, Train Accuracy: 0.5528\n",
      "Epoch 23/60, Val Loss: 104.9346, Val Accuracy: 0.5292\n",
      "Epoch 24/60, Train Loss: 394.0555, Train Accuracy: 0.5562\n",
      "Epoch 24/60, Val Loss: 104.3919, Val Accuracy: 0.5320\n",
      "Epoch 25/60, Train Loss: 391.4246, Train Accuracy: 0.5588\n",
      "Epoch 25/60, Val Loss: 103.8453, Val Accuracy: 0.5348\n",
      "Epoch 26/60, Train Loss: 388.8909, Train Accuracy: 0.5618\n",
      "Epoch 26/60, Val Loss: 103.3141, Val Accuracy: 0.5377\n",
      "Epoch 27/60, Train Loss: 386.4655, Train Accuracy: 0.5653\n",
      "Epoch 27/60, Val Loss: 102.7855, Val Accuracy: 0.5396\n",
      "Epoch 28/60, Train Loss: 384.1372, Train Accuracy: 0.5683\n",
      "Epoch 28/60, Val Loss: 102.3062, Val Accuracy: 0.5425\n",
      "Epoch 29/60, Train Loss: 381.8925, Train Accuracy: 0.5708\n",
      "Epoch 29/60, Val Loss: 101.8524, Val Accuracy: 0.5448\n",
      "Epoch 30/60, Train Loss: 379.7399, Train Accuracy: 0.5735\n",
      "Epoch 30/60, Val Loss: 101.4324, Val Accuracy: 0.5480\n",
      "Epoch 31/60, Train Loss: 377.6541, Train Accuracy: 0.5756\n",
      "Epoch 31/60, Val Loss: 101.0284, Val Accuracy: 0.5506\n",
      "Epoch 32/60, Train Loss: 375.6202, Train Accuracy: 0.5785\n",
      "Epoch 32/60, Val Loss: 100.6190, Val Accuracy: 0.5519\n",
      "Epoch 33/60, Train Loss: 373.6660, Train Accuracy: 0.5812\n",
      "Epoch 33/60, Val Loss: 100.1858, Val Accuracy: 0.5544\n",
      "Epoch 34/60, Train Loss: 371.7584, Train Accuracy: 0.5840\n",
      "Epoch 34/60, Val Loss: 99.7325, Val Accuracy: 0.5577\n",
      "Epoch 35/60, Train Loss: 369.9105, Train Accuracy: 0.5863\n",
      "Epoch 35/60, Val Loss: 99.3561, Val Accuracy: 0.5584\n",
      "Epoch 36/60, Train Loss: 368.1127, Train Accuracy: 0.5883\n",
      "Epoch 36/60, Val Loss: 98.9715, Val Accuracy: 0.5593\n",
      "Epoch 37/60, Train Loss: 366.3729, Train Accuracy: 0.5899\n",
      "Epoch 37/60, Val Loss: 98.6386, Val Accuracy: 0.5602\n",
      "Epoch 38/60, Train Loss: 364.6802, Train Accuracy: 0.5921\n",
      "Epoch 38/60, Val Loss: 98.3462, Val Accuracy: 0.5616\n",
      "Epoch 39/60, Train Loss: 363.0286, Train Accuracy: 0.5940\n",
      "Epoch 39/60, Val Loss: 97.9821, Val Accuracy: 0.5639\n",
      "Epoch 40/60, Train Loss: 361.4351, Train Accuracy: 0.5961\n",
      "Epoch 40/60, Val Loss: 97.6288, Val Accuracy: 0.5657\n",
      "Epoch 41/60, Train Loss: 359.8909, Train Accuracy: 0.5981\n",
      "Epoch 41/60, Val Loss: 97.2749, Val Accuracy: 0.5695\n",
      "Epoch 42/60, Train Loss: 358.3778, Train Accuracy: 0.5995\n",
      "Epoch 42/60, Val Loss: 96.9711, Val Accuracy: 0.5719\n",
      "Epoch 43/60, Train Loss: 356.9111, Train Accuracy: 0.6011\n",
      "Epoch 43/60, Val Loss: 96.6049, Val Accuracy: 0.5739\n",
      "Epoch 44/60, Train Loss: 355.4795, Train Accuracy: 0.6034\n",
      "Epoch 44/60, Val Loss: 96.3149, Val Accuracy: 0.5742\n",
      "Epoch 45/60, Train Loss: 354.0833, Train Accuracy: 0.6054\n",
      "Epoch 45/60, Val Loss: 96.0234, Val Accuracy: 0.5761\n",
      "Epoch 46/60, Train Loss: 352.7425, Train Accuracy: 0.6071\n",
      "Epoch 46/60, Val Loss: 95.7141, Val Accuracy: 0.5781\n",
      "Epoch 47/60, Train Loss: 351.4290, Train Accuracy: 0.6087\n",
      "Epoch 47/60, Val Loss: 95.5035, Val Accuracy: 0.5795\n",
      "Epoch 48/60, Train Loss: 350.1514, Train Accuracy: 0.6103\n",
      "Epoch 48/60, Val Loss: 95.2291, Val Accuracy: 0.5806\n",
      "Epoch 49/60, Train Loss: 348.9133, Train Accuracy: 0.6119\n",
      "Epoch 49/60, Val Loss: 94.9690, Val Accuracy: 0.5814\n",
      "Epoch 50/60, Train Loss: 347.7068, Train Accuracy: 0.6125\n",
      "Epoch 50/60, Val Loss: 94.6834, Val Accuracy: 0.5831\n",
      "Epoch 51/60, Train Loss: 346.5429, Train Accuracy: 0.6136\n",
      "Epoch 51/60, Val Loss: 94.4812, Val Accuracy: 0.5845\n",
      "Epoch 52/60, Train Loss: 345.4279, Train Accuracy: 0.6145\n",
      "Epoch 52/60, Val Loss: 94.2307, Val Accuracy: 0.5865\n",
      "Epoch 53/60, Train Loss: 344.3505, Train Accuracy: 0.6160\n",
      "Epoch 53/60, Val Loss: 94.0853, Val Accuracy: 0.5880\n",
      "Epoch 54/60, Train Loss: 343.2973, Train Accuracy: 0.6169\n",
      "Epoch 54/60, Val Loss: 93.8752, Val Accuracy: 0.5889\n",
      "Epoch 55/60, Train Loss: 342.2733, Train Accuracy: 0.6183\n",
      "Epoch 55/60, Val Loss: 93.6922, Val Accuracy: 0.5903\n",
      "Epoch 56/60, Train Loss: 341.2696, Train Accuracy: 0.6195\n",
      "Epoch 56/60, Val Loss: 93.4951, Val Accuracy: 0.5898\n",
      "Epoch 57/60, Train Loss: 340.2823, Train Accuracy: 0.6207\n",
      "Epoch 57/60, Val Loss: 93.3291, Val Accuracy: 0.5898\n",
      "Epoch 58/60, Train Loss: 339.3216, Train Accuracy: 0.6218\n",
      "Epoch 58/60, Val Loss: 93.1226, Val Accuracy: 0.5908\n",
      "Epoch 59/60, Train Loss: 338.3774, Train Accuracy: 0.6232\n",
      "Epoch 59/60, Val Loss: 92.9767, Val Accuracy: 0.5919\n",
      "Epoch 60/60, Train Loss: 337.4517, Train Accuracy: 0.6243\n",
      "Epoch 60/60, Val Loss: 92.8125, Val Accuracy: 0.5926\n",
      "CPU times: user 57.8 s, sys: 686 ms, total: 58.5 s\n",
      "Wall time: 59.9 s\n"
     ]
    }
   ],
   "source": [
    "%%time\n",
    "\n",
    "train_loss_list = []\n",
    "train_acc_list = []\n",
    "val_loss_list = []\n",
    "val_acc_list = []\n",
    "\n",
    "for epoch in range(EPOCH_COUNT):\n",
    "    model.train()\n",
    "    train_loss = 0\n",
    "    train_correct = 0\n",
    "    # for each batch\n",
    "    for i, (inputs, labels) in enumerate(train_loader):\n",
    "        # count the number of weights with very small magnitute < 1e-3\n",
    "        nans_count = 0\n",
    "        for param in model.parameters():\n",
    "            if param.grad is not None:\n",
    "                nans_count += torch.sum(torch.isnan(param.grad)).item()\n",
    "        \n",
    "        # zero the parameter gradients\n",
    "        optimizer.zero_grad()\n",
    "        # forward + backward + optimize\n",
    "        outputs = model(inputs)\n",
    "        loss = criterion(outputs, labels)\n",
    "        loss.backward()\n",
    "        optimizer.step()\n",
    "        # print all gradients of the first synapse\n",
    "        # print(f\"synapse grads : {model.classifier[-1].synapses[0][0].main[0].grad}\")\n",
    "        # print(f\"weights of first layer {model.classifier[-1].synapses[0][0]}\")\n",
    "        train_loss += loss.item()\n",
    "        _, predicted = torch.max(outputs, 1)\n",
    "        train_correct += (predicted == labels).sum().item()\n",
    "\n",
    "\n",
    "    print(f'Epoch {epoch+1}/{EPOCH_COUNT}, Train Loss: {train_loss:.4f}, Train Accuracy: {train_correct/40000:.4f}')\n",
    "    train_loss_list.append(train_loss)\n",
    "    train_acc_list.append(train_correct/40000)\n",
    "\n",
    "    # validate\n",
    "    model.eval()\n",
    "    val_loss = 0\n",
    "    val_correct = 0\n",
    "    with torch.no_grad():\n",
    "        for i, (inputs, labels) in enumerate(val_loader):\n",
    "            outputs = model(inputs)\n",
    "            loss = criterion(outputs, labels)\n",
    "            val_loss += loss.item()\n",
    "            _, predicted = torch.max(outputs, 1)\n",
    "            val_correct += (predicted == labels).sum().item()\n",
    "    val_acc = val_correct/10000\n",
    "    print(f'Epoch {epoch+1}/{EPOCH_COUNT}, Val Loss: {val_loss:.4f}, Val Accuracy: {val_acc:.4f}')\n",
    "    val_loss_list.append(val_loss)\n",
    "    val_acc_list.append(val_acc)\n",
    "    \n",
    "\n"
   ]
  },
  {
   "cell_type": "code",
   "execution_count": 14,
   "metadata": {},
   "outputs": [
    {
     "data": {
      "image/png": "[encoded data removed]",
      "text/plain": [
       "<Figure size 1000x500 with 2 Axes>"
      ]
     },
     "metadata": {},
     "output_type": "display_data"
    }
   ],
   "source": [
    "# plot the loss and accuracy curves\n",
    "plt.figure(figsize=(10, 5))\n",
    "plt.subplot(1, 2, 1)\n",
    "plt.plot(train_loss_list, label='train')\n",
    "plt.plot(val_loss_list, label='val')\n",
    "plt.title('Loss')\n",
    "plt.legend()\n",
    "\n",
    "plt.subplot(1, 2, 2)\n",
    "plt.plot(train_acc_list, label='train')\n",
    "plt.plot(val_acc_list, label='val')\n",
    "plt.title('Accuracy')\n",
    "plt.legend()\n",
    "\n",
    "\n",
    "# save plot to storage\n",
    "plt.savefig(f\"experiment_{EXPERIMENT_ID}_plot.png\")\n",
    "\n",
    "plt.show()\n",
    "\n",
    "# save model to storage\n",
    "torch.save(model, f\"experiment_{EXPERIMENT_ID}_model.pth\")"
   ]
  },
  {
   "cell_type": "code",
   "execution_count": null,
   "metadata": {
    "colab": {
     "base_uri": "https://localhost:8080/"
    },
    "id": "WdjnpYhDTg3b",
    "outputId": "34b4ddf7-64d2-41d9-911a-05663670f68d"
   },
   "outputs": [],
   "source": [
    "# print weights and powers of quasi poly layer\n",
    "\n",
    "quasi_poly_layer = model.classifier[-1]\n",
    "for i in range(quasi_poly_layer.out_features):\n",
    "    for j in range(quasi_poly_layer.in_features):\n",
    "        print(f'QuasiPolySynapse {i} {j} power: {quasi_poly_layer.synapses[i][j].power.item()}')\n",
    "        print(f'QuasiPolySynapse {i} {j} term weights: {quasi_poly_layer.synapses[i][j].term_weights.data}')\n",
    "        \n",
    "\n"
   ]
  },
  {
   "cell_type": "code",
   "execution_count": null,
   "metadata": {},
   "outputs": [],
   "source": []
  }
 ],
 "metadata": {
  "accelerator": "GPU",
  "colab": {
   "gpuType": "T4",
   "provenance": []
  },
  "kernelspec": {
   "display_name": "Python 3 (ipykernel)",
   "language": "python",
   "name": "python3"
  }
 },
 "nbformat": 4,
 "nbformat_minor": 4
}
